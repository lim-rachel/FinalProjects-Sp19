{
 "cells": [
  {
   "cell_type": "markdown",
   "metadata": {},
   "source": [
    "# COGS108 - Final Project\n",
    "# Overview"
   ]
  },
  {
   "cell_type": "markdown",
   "metadata": {},
   "source": [
    "In this project, we first came up with our research question that if the academic and social factors contribute to STEM students' mental illness. Many STEM students who go out into the workplace struggle with mental health conditions that can begin to develop in college. We found data sets online, cleaned them and did several data visualizations to analyze and made our conclusions. We have data that shows students' grades, the number of hours studied per week, employment rates after after college, and answers to questions on mental health in the workplace."
   ]
  },
  {
   "cell_type": "markdown",
   "metadata": {},
   "source": [
    "\n",
    "# Names"
   ]
  },
  {
   "cell_type": "markdown",
   "metadata": {},
   "source": [
    "* Alessandra Landingin (A11936362)\n",
    "* Bettina Gerez\t(A13718015)\n",
    "* Chau Dang (A13808198)\n",
    "* Duo(Cassie) Yu (A13459470)\n",
    "* Jiayu Fu (A15697380)\n",
    "* Rachel Lim (A14514205)"
   ]
  },
  {
   "cell_type": "markdown",
   "metadata": {},
   "source": [
    "# Research Question"
   ]
  },
  {
   "cell_type": "markdown",
   "metadata": {},
   "source": [
    "What academic and social factors do STEM (Specifically Technology, Engineering, and Mathematics) students experience during undergrad that contribute to mental-health illnesses in their professional careers?"
   ]
  },
  {
   "cell_type": "markdown",
   "metadata": {},
   "source": [
    "# Background and Prior Work"
   ]
  },
  {
   "cell_type": "markdown",
   "metadata": {},
   "source": [
    "In the world we live in today, with everyone striving to work at top-tier companies and earn as much money as possible to support themselves, it is not surprising that the world we live in today is one filled with competition. One of the more competitive fields in the STEM field, and a position in this field can be very prestigious and well-paying if you do it right. However, with so many people and recent graduates trying to establish themselves in the industry, it can be very difficult to get into those positions. As a result, people push themselves really hard, as early as college or high school, so that they can excel in their field of study. This can cause people to become overwhelmingly stressed, and it can be very unhealthy both physically and mentally. This often causes students to struggle with mental health issues.\n",
    "\tAccording to this article http://bit.ly/2veT8Vv, not much is known about the academic factors that contribute to the mental health of students since there are many other factors that should be taken into account, such as demographic and social factors. The article states that male students are more likely to be at risk for suicide, while female students are more likely to have major depression and anxiety disorders, and students from lower socioeconomic backgrounds tend to have more anxiety as well. Therefore, if we want to get accurate data representations, we should make sure to include students of all different types in our sample, or we should analyze students with different traits separately (ex: analyze female students of similar racial background together, and analyze male students of similar socioeconomic background together, etc.) and then compare them.\n",
    "Things such as striving for perfectionism definitely play a part in the amount of stress that students report. This article, https://journals.sagepub.com/doi/10.1177/0146167204272298, states in its abstract that perfectionism can be self-imposed or it can be dictated by peer pressure. Those with non-self-determined academic motivation experience higher levels of psychological adjustment difficulties than those with self-determined academic motivation do. \n",
    "Aside from an individual’s goal of perfectionism, there are barriers that are cultivated within the STEM community. In “Barriers and Opportunities for 2-Year and 4-Year STEM Degrees: Systemic Change to Support Students' Diverse Pathways”, it discusses the notion that educators tend to be particular about what counts as “scientific reasoning and sense-making.”  This, in turn, leads to the barrier that students may feel between themselves and their professors. It becomes a problem when they become too afraid to ask questions about topics or subjects that they might need help on. Then, the student becomes overwhelmed with the rigorous subjects and ultimately leads to the deterioration of their mental health condition. That is why statistics have shown that about 15% of college students suffer anxiety, and this causes them to have difficulty functioning in academic settings. (Reinberg 2018) This deteriorated mental health condition, if left untreated, will eventually bleed into their professional life. \n",
    "It is imperative that research is done to determine the factors that contribute to mental health, such that attempts are implemented to mitigate those factors as soon as they arise. Just as other health issues, like high blood pressure or diabetes, there are preventative measures that can be put in place to reduce or even eradicate any possible long-term effects of what is experienced during undergrad on the mental health of an individual in their professional career. \n"
   ]
  },
  {
   "cell_type": "markdown",
   "metadata": {},
   "source": [
    "# Hypothesis"
   ]
  },
  {
   "cell_type": "markdown",
   "metadata": {},
   "source": [
    "Due to the rigorous and competitive nature of the undergraduate STEM curriculum, students in these majors typically experience a higher number of study hours per week, are more prone to backlogging, and show extreme distress about how their grades are in comparison to their peers. Eventually, these factors take a major toll on a student’s confidence and self-worth in their foreseeable professional life, which ultimately leads to a range of mental health issues in STEM-related industries. This is because the need to do a lot of studying and be competitive places a lot of stress on people.\n"
   ]
  },
  {
   "cell_type": "markdown",
   "metadata": {},
   "source": [
    "# Dataset(s)"
   ]
  },
  {
   "cell_type": "markdown",
   "metadata": {},
   "source": [
    "To relate mental health issues in STEM-related industries to how students performe at school, we are using these datasets\n",
    "\n",
    "Exporatory Analysis on Worst Grades:\n",
    "This dataset is from the University of Washington, An Exploratory Analysis on Worst Grades from 2006 to 2017 found at The data has totals of 9,000 courses, almost 200,000 course sections, 3 million grades reported and 18,000 instructors. The dataset analyzed on which courses have the most students with failing grades and which professors are tough in these particular courses. With over 1,000 samples in each observation, the data narrows down the results of topmost 20 courses in the university with 14 courses being Mathematics. In this case, we can make the connection how often Math courses have brought students’ grades down from failing the class – in which, it could lead them to doubt themselves pursuing a career in the STEM fields. Additionally, the data also includes which day of the week had the most passing and failing grades. We can factor out how it negatively affects the student’s performance on certain courses. https://www.kaggle.com/mohitjoshi29/an-exploratory-analysis-on-worst-grades.\n",
    "\n",
    "Mental Health in Tech Survy:\n",
    "This dataset is from a Mental Health in Tech survey from Kaggle.This is data was collected in 2014 from the OSMI Mental Health Survey. The survey collected about 1257 people’s responses from all around the world. The survey is still ongoing and is still collecting more responses from employees in the tech industry. Each survey contains questions about how their mental well-being is being treated similarly to their physical well-being.\n",
    "https://www.kaggle.com/ashwinireddy/mental-health-in-tech-survey-rpart\n",
    "\n",
    "CAPE Data:\n",
    "We obtained the CAPE data from cape.ucsd.edu. We downloaded the html from the websites and wrote a Java program to parse and retrieve the data from the html source code. We got the average number of hours studied and average grade received for each offering of the classes we selected, which were core classes in the different majors.\n",
    "\n",
    "FiveThirtyEight College Majors:\n",
    "The third dataset we are using is found on Kaggle at https://www.kaggle.com/fivethirtyeight/fivethirtyeight-college-majors-dataset#grad-students.csv This is a dataset from FiveThirtyEight hosted on their Github. The data includes 173 unique majors with the specific graduate sample size for each of the major. This data set collects a lot of information related to the employment and unemployment of graduate and non-graduate students. Analyzing this data set, we can thereby conclude that the low employment rate might have some influence on students grades and can also put more pressure on the students in STEM majors."
   ]
  },
  {
   "cell_type": "markdown",
   "metadata": {},
   "source": [
    "These are the libraries we will be using to help us analyze the dataset"
   ]
  },
  {
   "cell_type": "code",
   "execution_count": 65,
   "metadata": {},
   "outputs": [],
   "source": [
    "#Import\n",
    "\n",
    "import numpy as np\n",
    "import pandas as pd\n",
    "import matplotlib.pyplot as plt\n",
    "import seaborn as sns "
   ]
  },
  {
   "cell_type": "markdown",
   "metadata": {},
   "source": [
    "# Setup"
   ]
  },
  {
   "cell_type": "code",
   "execution_count": 66,
   "metadata": {},
   "outputs": [],
   "source": [
    "#Load files into PandaFrame Exporatory_Analysis_on_Worst_Grades\n",
    "course_offerings = pd.read_csv('Exporatory_Analysis_on_Worst_Grades/course_offerings.csv')\n",
    "grade_dis = pd.read_csv('Exporatory_Analysis_on_Worst_Grades/grade_distributions.csv')"
   ]
  },
  {
   "cell_type": "code",
   "execution_count": 67,
   "metadata": {},
   "outputs": [],
   "source": [
    "#uploading csv file for the mental health in tech kaggle page\n",
    "df_survey=pd.read_csv(open('Mental_Health_in_tech/survey.csv'))"
   ]
  },
  {
   "cell_type": "code",
   "execution_count": 68,
   "metadata": {},
   "outputs": [],
   "source": [
    "df_grad=pd.read_csv(open('FiveThirtyEight_Cassie/grad-students.csv'))"
   ]
  },
  {
   "cell_type": "code",
   "execution_count": 69,
   "metadata": {},
   "outputs": [],
   "source": [
    "#create dataframe from CAPE data\n",
    "capedf = pd.read_csv('capeData.csv')\n",
    "\n",
    "#create dataframe from non-STEM CAPE data\n",
    "capedf_nonstem = pd.read_csv('nonstem_capeData.csv')"
   ]
  },
  {
   "cell_type": "markdown",
   "metadata": {},
   "source": [
    "# Data Cleaning"
   ]
  },
  {
   "cell_type": "markdown",
   "metadata": {},
   "source": [
    "We first clean up the dataset  we are using  the University of Washington, An Exploratory Analysis on Worst Grades from 2006 to 2017. We want to find out how do students performe in each course so we only keep courses offering, number of letter grade students recieve, total number of students and the rate of A and F by dropping uneccessary columns. To make our data more valid, we also dropped rows in which student numbers are less than 100 which is relative small.\n",
    "The second dataset we cleaned is the mental health in tech survy. Considering that we are only going to focus on mental health issues, so we dropped columns that is not useful to show menatl health issues such as physical health consequences and interviews."
   ]
  },
  {
   "cell_type": "code",
   "execution_count": 70,
   "metadata": {},
   "outputs": [],
   "source": [
    "#Drop uneccessary columns \n",
    "course_offerings = course_offerings.drop(['term_code', 'course_uuid'],axis=1)\n",
    "grade_dis[\"students count\"] = grade_dis.iloc[:,2:18].sum(axis=1)\n",
    "grade_dis = grade_dis.drop(['section_number','ab_count', 'bc_count', 's_count', 'u_count', 'cr_count', \n",
    "                            'n_count', 'p_count', 'i_count','nw_count', 'nr_count', 'other_count'],axis=1)"
   ]
  },
  {
   "cell_type": "markdown",
   "metadata": {},
   "source": [
    "We calculate the A rate and D/F rate for each class and drop the class with total sudents less than 100."
   ]
  },
  {
   "cell_type": "code",
   "execution_count": 71,
   "metadata": {
    "scrolled": true
   },
   "outputs": [
    {
     "data": {
      "text/html": [
       "<div>\n",
       "<style scoped>\n",
       "    .dataframe tbody tr th:only-of-type {\n",
       "        vertical-align: middle;\n",
       "    }\n",
       "\n",
       "    .dataframe tbody tr th {\n",
       "        vertical-align: top;\n",
       "    }\n",
       "\n",
       "    .dataframe thead th {\n",
       "        text-align: right;\n",
       "    }\n",
       "</style>\n",
       "<table border=\"1\" class=\"dataframe\">\n",
       "  <thead>\n",
       "    <tr style=\"text-align: right;\">\n",
       "      <th></th>\n",
       "      <th>course</th>\n",
       "      <th>A</th>\n",
       "      <th>B</th>\n",
       "      <th>C</th>\n",
       "      <th>D</th>\n",
       "      <th>F</th>\n",
       "      <th>Total students</th>\n",
       "      <th>A rate</th>\n",
       "      <th>DF rate</th>\n",
       "    </tr>\n",
       "  </thead>\n",
       "  <tbody>\n",
       "    <tr>\n",
       "      <th>7</th>\n",
       "      <td>19&amp;20 C Russian Lit Tran I</td>\n",
       "      <td>440</td>\n",
       "      <td>74</td>\n",
       "      <td>17</td>\n",
       "      <td>8</td>\n",
       "      <td>10</td>\n",
       "      <td>755</td>\n",
       "      <td>0.582781</td>\n",
       "      <td>0.023841</td>\n",
       "    </tr>\n",
       "    <tr>\n",
       "      <th>8</th>\n",
       "      <td>19&amp;20 C Russian Lit Tran II</td>\n",
       "      <td>305</td>\n",
       "      <td>45</td>\n",
       "      <td>12</td>\n",
       "      <td>3</td>\n",
       "      <td>8</td>\n",
       "      <td>511</td>\n",
       "      <td>0.596869</td>\n",
       "      <td>0.021526</td>\n",
       "    </tr>\n",
       "    <tr>\n",
       "      <th>9</th>\n",
       "      <td>19&amp;20th C Russn Lit Tran I</td>\n",
       "      <td>219</td>\n",
       "      <td>87</td>\n",
       "      <td>21</td>\n",
       "      <td>11</td>\n",
       "      <td>11</td>\n",
       "      <td>546</td>\n",
       "      <td>0.401099</td>\n",
       "      <td>0.040293</td>\n",
       "    </tr>\n",
       "    <tr>\n",
       "      <th>10</th>\n",
       "      <td>19&amp;20th C Russn Lit Tran II</td>\n",
       "      <td>157</td>\n",
       "      <td>62</td>\n",
       "      <td>10</td>\n",
       "      <td>0</td>\n",
       "      <td>5</td>\n",
       "      <td>364</td>\n",
       "      <td>0.431319</td>\n",
       "      <td>0.013736</td>\n",
       "    </tr>\n",
       "    <tr>\n",
       "      <th>11</th>\n",
       "      <td>19th C Painting in Europe</td>\n",
       "      <td>46</td>\n",
       "      <td>17</td>\n",
       "      <td>3</td>\n",
       "      <td>5</td>\n",
       "      <td>1</td>\n",
       "      <td>175</td>\n",
       "      <td>0.262857</td>\n",
       "      <td>0.034286</td>\n",
       "    </tr>\n",
       "    <tr>\n",
       "      <th>...</th>\n",
       "      <td>...</td>\n",
       "      <td>...</td>\n",
       "      <td>...</td>\n",
       "      <td>...</td>\n",
       "      <td>...</td>\n",
       "      <td>...</td>\n",
       "      <td>...</td>\n",
       "      <td>...</td>\n",
       "      <td>...</td>\n",
       "    </tr>\n",
       "    <tr>\n",
       "      <th>8231</th>\n",
       "      <td>Yiddish Lit &amp; Culture, America</td>\n",
       "      <td>74</td>\n",
       "      <td>17</td>\n",
       "      <td>0</td>\n",
       "      <td>1</td>\n",
       "      <td>2</td>\n",
       "      <td>171</td>\n",
       "      <td>0.432749</td>\n",
       "      <td>0.017544</td>\n",
       "    </tr>\n",
       "    <tr>\n",
       "      <th>8233</th>\n",
       "      <td>Yiddish Song and Jewish Exp</td>\n",
       "      <td>204</td>\n",
       "      <td>17</td>\n",
       "      <td>3</td>\n",
       "      <td>0</td>\n",
       "      <td>0</td>\n",
       "      <td>265</td>\n",
       "      <td>0.769811</td>\n",
       "      <td>0.000000</td>\n",
       "    </tr>\n",
       "    <tr>\n",
       "      <th>8234</th>\n",
       "      <td>Yng Adult Occs&amp;Ther Interventn</td>\n",
       "      <td>106</td>\n",
       "      <td>32</td>\n",
       "      <td>2</td>\n",
       "      <td>0</td>\n",
       "      <td>0</td>\n",
       "      <td>277</td>\n",
       "      <td>0.382671</td>\n",
       "      <td>0.000000</td>\n",
       "    </tr>\n",
       "    <tr>\n",
       "      <th>8236</th>\n",
       "      <td>Young Adult Lit for Schools</td>\n",
       "      <td>103</td>\n",
       "      <td>3</td>\n",
       "      <td>0</td>\n",
       "      <td>0</td>\n",
       "      <td>0</td>\n",
       "      <td>114</td>\n",
       "      <td>0.903509</td>\n",
       "      <td>0.000000</td>\n",
       "    </tr>\n",
       "    <tr>\n",
       "      <th>8237</th>\n",
       "      <td>Young Adult Literature</td>\n",
       "      <td>184</td>\n",
       "      <td>4</td>\n",
       "      <td>2</td>\n",
       "      <td>0</td>\n",
       "      <td>0</td>\n",
       "      <td>213</td>\n",
       "      <td>0.863850</td>\n",
       "      <td>0.000000</td>\n",
       "    </tr>\n",
       "  </tbody>\n",
       "</table>\n",
       "<p>3765 rows × 9 columns</p>\n",
       "</div>"
      ],
      "text/plain": [
       "                              course    A   B   C   D   F  Total students  \\\n",
       "7         19&20 C Russian Lit Tran I  440  74  17   8  10             755   \n",
       "8        19&20 C Russian Lit Tran II  305  45  12   3   8             511   \n",
       "9         19&20th C Russn Lit Tran I  219  87  21  11  11             546   \n",
       "10       19&20th C Russn Lit Tran II  157  62  10   0   5             364   \n",
       "11         19th C Painting in Europe   46  17   3   5   1             175   \n",
       "...                              ...  ...  ..  ..  ..  ..             ...   \n",
       "8231  Yiddish Lit & Culture, America   74  17   0   1   2             171   \n",
       "8233     Yiddish Song and Jewish Exp  204  17   3   0   0             265   \n",
       "8234  Yng Adult Occs&Ther Interventn  106  32   2   0   0             277   \n",
       "8236     Young Adult Lit for Schools  103   3   0   0   0             114   \n",
       "8237          Young Adult Literature  184   4   2   0   0             213   \n",
       "\n",
       "        A rate   DF rate  \n",
       "7     0.582781  0.023841  \n",
       "8     0.596869  0.021526  \n",
       "9     0.401099  0.040293  \n",
       "10    0.431319  0.013736  \n",
       "11    0.262857  0.034286  \n",
       "...        ...       ...  \n",
       "8231  0.432749  0.017544  \n",
       "8233  0.769811  0.000000  \n",
       "8234  0.382671  0.000000  \n",
       "8236  0.903509  0.000000  \n",
       "8237  0.863850  0.000000  \n",
       "\n",
       "[3765 rows x 9 columns]"
      ]
     },
     "execution_count": 71,
     "metadata": {},
     "output_type": "execute_result"
    }
   ],
   "source": [
    "#Merging course_offerings and grade_dis on course_offerings_uuid and uuid\n",
    "courses_combined = pd.merge(course_offerings, grade_dis.set_index('course_offering_uuid'), \n",
    "                            left_on='uuid', right_index=True)\n",
    "\n",
    "#Drop any missing value in the 'name' row \n",
    "courses_combined = courses_combined.dropna(how='any')\n",
    "\n",
    "#Drop the ID column \n",
    "courses_combined = courses_combined.iloc[:,1:8]\n",
    "\n",
    "#Rename the columns \n",
    "courses_combined.columns = [\"course\", \"A\", \"B\", \"C\", \"D\", \"F\", \"Total students\"]\n",
    "\n",
    "# merge courses with the same name\n",
    "course_unique = courses_combined.groupby('course', as_index=False).sum()\n",
    "\n",
    "# drop the class with total students < 100 since thats relative small data\n",
    "course_unique = course_unique[course_unique['Total students'] > 100]\n",
    "\n",
    "#calculate the a rate for each course\n",
    "course_unique[\"A rate\"] = course_unique[\"A\"] / course_unique[\"Total students\"]\n",
    "\n",
    "#calculate the DF rate for each course\n",
    "course_unique[\"DF rate\"] = ( course_unique[\"D\"] + course_unique[\"F\"])/ course_unique[\"Total students\"]\n",
    "course_unique"
   ]
  },
  {
   "cell_type": "markdown",
   "metadata": {},
   "source": [
    "We drop columns that are not useful to determine mental health issues."
   ]
  },
  {
   "cell_type": "code",
   "execution_count": 72,
   "metadata": {},
   "outputs": [],
   "source": [
    "#dropped unnecessary columns\n",
    "df_survey=df_survey.drop(['Timestamp','phys_health_consequence','phys_health_interview'],axis=1)"
   ]
  },
  {
   "cell_type": "code",
   "execution_count": 73,
   "metadata": {},
   "outputs": [],
   "source": [
    "#extracted only people in CA and extracting the ones who do work in tech companies \n",
    "df_ca = df_survey[df_survey['state'] == 'CA']\n",
    "ca_tech = df_ca[df_ca['tech_company'] == 'Yes']"
   ]
  },
  {
   "cell_type": "code",
   "execution_count": 74,
   "metadata": {},
   "outputs": [],
   "source": [
    "#dropped unnecessary columns that doesn't need to be part of our analysis\n",
    "\n",
    "df_grad=df_grad.drop(['Major_code','Grad_median','Grad_P25','Grad_P75','Nongrad_median','Nongrad_P25','Nongrad_P75','Grad_share','Grad_premium','Grad_full_time_year_round','Nongrad_full_time_year_round','Grad_unemployment_rate','Nongrad_unemployment_rate'],axis=1)"
   ]
  },
  {
   "cell_type": "code",
   "execution_count": 75,
   "metadata": {},
   "outputs": [],
   "source": [
    "#drop rows with NaN\n",
    "capedf_nonstem = capedf_nonstem.dropna()\n",
    "#drop rows with NaN\n",
    "capedf = capedf.dropna()"
   ]
  },
  {
   "cell_type": "markdown",
   "metadata": {},
   "source": [
    "# Data Analysis & Results"
   ]
  },
  {
   "cell_type": "markdown",
   "metadata": {},
   "source": [
    "We want to know how a higher number of study hours per week would affect students.\n",
    "\n",
    "To do this for UCSD students, we got data from the CAPE (Course and Professor Evaluations) results websites and chose a variety of core classes for different majors.\n",
    "\n",
    "We can look at classes with average hours each student studies and average grade each student recieved. "
   ]
  },
  {
   "cell_type": "code",
   "execution_count": 76,
   "metadata": {},
   "outputs": [
    {
     "data": {
      "text/html": [
       "<div>\n",
       "<style scoped>\n",
       "    .dataframe tbody tr th:only-of-type {\n",
       "        vertical-align: middle;\n",
       "    }\n",
       "\n",
       "    .dataframe tbody tr th {\n",
       "        vertical-align: top;\n",
       "    }\n",
       "\n",
       "    .dataframe thead th {\n",
       "        text-align: right;\n",
       "    }\n",
       "</style>\n",
       "<table border=\"1\" class=\"dataframe\">\n",
       "  <thead>\n",
       "    <tr style=\"text-align: right;\">\n",
       "      <th></th>\n",
       "      <th>Class</th>\n",
       "      <th>Avg Hours Studied</th>\n",
       "      <th>Avg Grade</th>\n",
       "    </tr>\n",
       "  </thead>\n",
       "  <tbody>\n",
       "    <tr>\n",
       "      <th>2</th>\n",
       "      <td>BIBC103</td>\n",
       "      <td>5.93</td>\n",
       "      <td>3.31</td>\n",
       "    </tr>\n",
       "    <tr>\n",
       "      <th>3</th>\n",
       "      <td>BIBC103</td>\n",
       "      <td>6.60</td>\n",
       "      <td>3.18</td>\n",
       "    </tr>\n",
       "    <tr>\n",
       "      <th>4</th>\n",
       "      <td>BIBC103</td>\n",
       "      <td>5.58</td>\n",
       "      <td>2.91</td>\n",
       "    </tr>\n",
       "    <tr>\n",
       "      <th>5</th>\n",
       "      <td>BIBC103</td>\n",
       "      <td>9.44</td>\n",
       "      <td>3.15</td>\n",
       "    </tr>\n",
       "    <tr>\n",
       "      <th>6</th>\n",
       "      <td>BIBC103</td>\n",
       "      <td>8.96</td>\n",
       "      <td>3.17</td>\n",
       "    </tr>\n",
       "    <tr>\n",
       "      <th>...</th>\n",
       "      <td>...</td>\n",
       "      <td>...</td>\n",
       "      <td>...</td>\n",
       "    </tr>\n",
       "    <tr>\n",
       "      <th>2686</th>\n",
       "      <td>PHYS1A</td>\n",
       "      <td>5.04</td>\n",
       "      <td>2.88</td>\n",
       "    </tr>\n",
       "    <tr>\n",
       "      <th>2687</th>\n",
       "      <td>PHYS1A</td>\n",
       "      <td>4.63</td>\n",
       "      <td>2.88</td>\n",
       "    </tr>\n",
       "    <tr>\n",
       "      <th>2688</th>\n",
       "      <td>PHYS1A</td>\n",
       "      <td>5.05</td>\n",
       "      <td>2.93</td>\n",
       "    </tr>\n",
       "    <tr>\n",
       "      <th>2689</th>\n",
       "      <td>PHYS1A</td>\n",
       "      <td>4.59</td>\n",
       "      <td>2.93</td>\n",
       "    </tr>\n",
       "    <tr>\n",
       "      <th>2690</th>\n",
       "      <td>PHYS1A</td>\n",
       "      <td>4.25</td>\n",
       "      <td>2.93</td>\n",
       "    </tr>\n",
       "  </tbody>\n",
       "</table>\n",
       "<p>2440 rows × 3 columns</p>\n",
       "</div>"
      ],
      "text/plain": [
       "        Class  Avg Hours Studied  Avg Grade\n",
       "2     BIBC103               5.93       3.31\n",
       "3     BIBC103               6.60       3.18\n",
       "4     BIBC103               5.58       2.91\n",
       "5     BIBC103               9.44       3.15\n",
       "6     BIBC103               8.96       3.17\n",
       "...       ...                ...        ...\n",
       "2686   PHYS1A               5.04       2.88\n",
       "2687   PHYS1A               4.63       2.88\n",
       "2688   PHYS1A               5.05       2.93\n",
       "2689   PHYS1A               4.59       2.93\n",
       "2690   PHYS1A               4.25       2.93\n",
       "\n",
       "[2440 rows x 3 columns]"
      ]
     },
     "execution_count": 76,
     "metadata": {},
     "output_type": "execute_result"
    }
   ],
   "source": [
    "capedf"
   ]
  },
  {
   "cell_type": "markdown",
   "metadata": {},
   "source": [
    "Only looking at rows and columns are not enough for us to form causations, so we made a scatter graph. From the graph, we could tell that students studying higher number of hours per week does not mean that they would get a higher grade proportional to their efforts. Some students only studied less than 4 hours per week but got a pretty good grade whereas some students studies more than 10 hours per week but got a grade less than 3.0."
   ]
  },
  {
   "cell_type": "code",
   "execution_count": 77,
   "metadata": {},
   "outputs": [
    {
     "data": {
      "image/png": "[encoded data removed]",
      "text/plain": [
       "<Figure size 576x504 with 1 Axes>"
      ]
     },
     "metadata": {
      "needs_background": "light"
     },
     "output_type": "display_data"
    }
   ],
   "source": [
    "plt.scatter(capedf['Avg Hours Studied'], capedf['Avg Grade'])\n",
    "plt.xlabel('Avg Hours Studied'); plt.ylabel('Avg Grade');\n",
    "\n",
    "\n",
    "fig_size = plt.rcParams[\"figure.figsize\"]\n",
    "fig_size[0] = 8\n",
    "fig_size[1] = 7\n",
    "plt.rcParams[\"figure.figsize\"] = fig_size"
   ]
  },
  {
   "cell_type": "markdown",
   "metadata": {},
   "source": [
    "We want to look at the different classes by subject, so we create dataframes for each of them."
   ]
  },
  {
   "cell_type": "code",
   "execution_count": 78,
   "metadata": {},
   "outputs": [],
   "source": [
    "df_bio = capedf[capedf['Class'].str.match('BI')]\n",
    "df_chem = capedf[capedf['Class'].str.match('CHEM')]\n",
    "df_cogs = capedf[capedf['Class'].str.match('COGS')]\n",
    "df_mae = capedf[capedf['Class'].str.match('MAE')]\n",
    "df_math = capedf[capedf['Class'].str.match('MATH')]"
   ]
  },
  {
   "cell_type": "markdown",
   "metadata": {},
   "source": [
    "We can now look at how many classes reported studying for 8 hours or more on average per week based on their CAPE responses, by subject."
   ]
  },
  {
   "cell_type": "code",
   "execution_count": 79,
   "metadata": {},
   "outputs": [],
   "source": [
    "bio_8hrs = df_bio[df_bio['Avg Hours Studied'] >= 8]\n",
    "chem_8hrs = df_chem[df_chem['Avg Hours Studied'] >= 8]\n",
    "cogs_8hrs = df_cogs[df_cogs['Avg Hours Studied'] >= 8]\n",
    "mae_8hrs = df_mae[df_mae['Avg Hours Studied'] >= 8]\n",
    "math_8hrs = df_math[df_math['Avg Hours Studied'] >= 8]\n",
    "\n",
    "bio_8hrs_p = len(bio_8hrs) / len(df_bio) * 100\n",
    "chem_8hrs_p = len(chem_8hrs) / len(df_chem) * 100\n",
    "cogs_8hrs_p = len(cogs_8hrs) / len(df_cogs) * 100\n",
    "mae_8hrs_p = len(mae_8hrs) / len(df_mae) * 100\n",
    "math_8hrs_p = len(math_8hrs) / len(df_math) * 100\n",
    "\n",
    "stem_subjects = ['BIO', 'CHEM', 'COGS', 'MAE', 'MATH']\n",
    "stem_8hrs = [bio_8hrs_p, chem_8hrs_p, cogs_8hrs_p, mae_8hrs_p, math_8hrs_p]"
   ]
  },
  {
   "cell_type": "code",
   "execution_count": 80,
   "metadata": {
    "scrolled": true
   },
   "outputs": [
    {
     "data": {
      "image/png": "[encoded data removed]",
      "text/plain": [
       "<Figure size 576x504 with 1 Axes>"
      ]
     },
     "metadata": {
      "needs_background": "light"
     },
     "output_type": "display_data"
    }
   ],
   "source": [
    "plt.bar(np.arange(len(stem_subjects)), stem_8hrs, align='center')\n",
    "plt.xticks(ticks=np.arange(len(stem_subjects)), labels=stem_subjects)\n",
    "plt.ylabel('Percentage'); plt.xlabel('Subject')\n",
    "plt.title('Percent of Classes Where Students Studied 8hrs or More', pad=10)\n",
    "\n",
    "fig_size = plt.rcParams[\"figure.figsize\"]\n",
    "fig_size[0] = 6\n",
    "fig_size[1] = 4\n",
    "plt.rcParams[\"figure.figsize\"] = fig_size\n",
    "\n",
    "plt.show()"
   ]
  },
  {
   "cell_type": "markdown",
   "metadata": {},
   "source": [
    "From here, we can look at all the classes where students studied 8 hours or more per week on average, and out of those classes, how many had an average grade of at least a B+, which at UCSD, would be at least a 3.3."
   ]
  },
  {
   "cell_type": "code",
   "execution_count": 81,
   "metadata": {},
   "outputs": [],
   "source": [
    "bio_8hrs_h = len(df_bio[(df_bio['Avg Grade'] >= 3.3) & (df_bio['Avg Hours Studied'] >= 8 )]) / len(bio_8hrs) * 100\n",
    "chem_8hrs_h = len(df_chem[(df_chem['Avg Grade'] >= 3.3) & (df_chem['Avg Hours Studied'] >= 8 )]) / len(chem_8hrs) * 100\n",
    "cogs_8hrs_h = len(df_cogs[(df_cogs['Avg Grade'] >= 3.3) & (df_cogs['Avg Hours Studied'] >= 8 )]) / len(cogs_8hrs) * 100\n",
    "mae_8hrs_h = len(df_mae[(df_mae['Avg Grade'] >= 3.3) & (df_mae['Avg Hours Studied'] >= 8 )]) / len(mae_8hrs) * 100\n",
    "math_8hrs_h = len(df_math[(df_math['Avg Grade'] >= 3.3) & (df_math['Avg Hours Studied'] >= 8 )]) / len(math_8hrs) * 100\n",
    "\n",
    "stem_grades_h = [bio_8hrs_h, chem_8hrs_h, cogs_8hrs_h, mae_8hrs_h, math_8hrs_h]\n",
    "stem_grades_lh =[]\n",
    "for i in range(len(stem_grades_h)):\n",
    "    stem_grades_lh.append(100 - stem_grades_h[i])"
   ]
  },
  {
   "cell_type": "code",
   "execution_count": 82,
   "metadata": {},
   "outputs": [
    {
     "data": {
      "image/png": "[encoded data removed]",
      "text/plain": [
       "<Figure size 432x288 with 1 Axes>"
      ]
     },
     "metadata": {
      "needs_background": "light"
     },
     "output_type": "display_data"
    }
   ],
   "source": [
    "fig, ax = plt.subplots()\n",
    "indexes = np.arange(len(stem_subjects))\n",
    "bar_width = 0.4\n",
    "\n",
    "res1 = plt.bar(indexes, stem_grades_h, bar_width, align='center', color='blue', label=\"3.3 or greater\")\n",
    "res2 = plt.bar(indexes + bar_width, stem_grades_lh, bar_width, align='center', color='green', label=\"Less than 3.3\")\n",
    "\n",
    "fig_size = plt.rcParams[\"figure.figsize\"]\n",
    "fig_size[0] = 8\n",
    "fig_size[1] = 6\n",
    "plt.rcParams[\"figure.figsize\"] = fig_size\n",
    "\n",
    "plt.xticks(ticks=indexes+(bar_width/2), labels=stem_subjects)\n",
    "plt.ylabel('Percentage of Students');\n",
    "plt.title('Average Grades for Classes Where Students Studied an Average of 8hrs or More', pad=10)\n",
    "plt.legend()\n",
    "\n",
    "plt.show()"
   ]
  },
  {
   "cell_type": "markdown",
   "metadata": {},
   "source": [
    "In classes like MAE (Mechanical and Aerospace Engineering) and Math, over 90% of classes in which students study for 8 hours or more a week do not give an average grade higher than a B. Students who are putting in the time and the effort to do well are not necessarily scoring high."
   ]
  },
  {
   "cell_type": "markdown",
   "metadata": {},
   "source": [
    "To get a better sense of how much STEM students study, we can compare their data with data from non-STEM students."
   ]
  },
  {
   "cell_type": "code",
   "execution_count": 83,
   "metadata": {},
   "outputs": [
    {
     "data": {
      "text/html": [
       "<div>\n",
       "<style scoped>\n",
       "    .dataframe tbody tr th:only-of-type {\n",
       "        vertical-align: middle;\n",
       "    }\n",
       "\n",
       "    .dataframe tbody tr th {\n",
       "        vertical-align: top;\n",
       "    }\n",
       "\n",
       "    .dataframe thead th {\n",
       "        text-align: right;\n",
       "    }\n",
       "</style>\n",
       "<table border=\"1\" class=\"dataframe\">\n",
       "  <thead>\n",
       "    <tr style=\"text-align: right;\">\n",
       "      <th></th>\n",
       "      <th>Class</th>\n",
       "      <th>Avg Hours Studied</th>\n",
       "      <th>Avg Grade</th>\n",
       "    </tr>\n",
       "  </thead>\n",
       "  <tbody>\n",
       "    <tr>\n",
       "      <th>0</th>\n",
       "      <td>CGS100</td>\n",
       "      <td>4.14</td>\n",
       "      <td>3.56</td>\n",
       "    </tr>\n",
       "    <tr>\n",
       "      <th>3</th>\n",
       "      <td>CGS100</td>\n",
       "      <td>3.61</td>\n",
       "      <td>3.62</td>\n",
       "    </tr>\n",
       "    <tr>\n",
       "      <th>4</th>\n",
       "      <td>CGS100</td>\n",
       "      <td>5.58</td>\n",
       "      <td>3.08</td>\n",
       "    </tr>\n",
       "    <tr>\n",
       "      <th>5</th>\n",
       "      <td>CGS100</td>\n",
       "      <td>4.62</td>\n",
       "      <td>3.59</td>\n",
       "    </tr>\n",
       "    <tr>\n",
       "      <th>6</th>\n",
       "      <td>CGS100</td>\n",
       "      <td>7.50</td>\n",
       "      <td>3.66</td>\n",
       "    </tr>\n",
       "    <tr>\n",
       "      <th>...</th>\n",
       "      <td>...</td>\n",
       "      <td>...</td>\n",
       "      <td>...</td>\n",
       "    </tr>\n",
       "    <tr>\n",
       "      <th>823</th>\n",
       "      <td>SOCI106</td>\n",
       "      <td>3.05</td>\n",
       "      <td>3.44</td>\n",
       "    </tr>\n",
       "    <tr>\n",
       "      <th>824</th>\n",
       "      <td>SOCI106</td>\n",
       "      <td>3.83</td>\n",
       "      <td>3.30</td>\n",
       "    </tr>\n",
       "    <tr>\n",
       "      <th>826</th>\n",
       "      <td>VIS100</td>\n",
       "      <td>4.50</td>\n",
       "      <td>3.82</td>\n",
       "    </tr>\n",
       "    <tr>\n",
       "      <th>828</th>\n",
       "      <td>VIS100</td>\n",
       "      <td>5.30</td>\n",
       "      <td>4.00</td>\n",
       "    </tr>\n",
       "    <tr>\n",
       "      <th>836</th>\n",
       "      <td>VIS112</td>\n",
       "      <td>3.17</td>\n",
       "      <td>3.86</td>\n",
       "    </tr>\n",
       "  </tbody>\n",
       "</table>\n",
       "<p>616 rows × 3 columns</p>\n",
       "</div>"
      ],
      "text/plain": [
       "       Class  Avg Hours Studied  Avg Grade\n",
       "0     CGS100               4.14       3.56\n",
       "3     CGS100               3.61       3.62\n",
       "4     CGS100               5.58       3.08\n",
       "5     CGS100               4.62       3.59\n",
       "6     CGS100               7.50       3.66\n",
       "..       ...                ...        ...\n",
       "823  SOCI106               3.05       3.44\n",
       "824  SOCI106               3.83       3.30\n",
       "826   VIS100               4.50       3.82\n",
       "828   VIS100               5.30       4.00\n",
       "836   VIS112               3.17       3.86\n",
       "\n",
       "[616 rows x 3 columns]"
      ]
     },
     "execution_count": 83,
     "metadata": {},
     "output_type": "execute_result"
    }
   ],
   "source": [
    "capedf_nonstem"
   ]
  },
  {
   "cell_type": "markdown",
   "metadata": {},
   "source": [
    "We can make a graph to see how what percentage of classes had students studying 8 hours or more per week for both STEM and non-STEM clases."
   ]
  },
  {
   "cell_type": "code",
   "execution_count": 84,
   "metadata": {},
   "outputs": [],
   "source": [
    "stem_8hrs = capedf[capedf['Avg Hours Studied'] >= 8]\n",
    "nonstem_8hrs = capedf_nonstem[capedf_nonstem['Avg Hours Studied'] >= 8]\n",
    "\n",
    "stem_8hrs_p = len(stem_8hrs) / len(capedf) * 100\n",
    "nonstem_8hrs_p = len(nonstem_8hrs) / len(capedf_nonstem) * 100"
   ]
  },
  {
   "cell_type": "code",
   "execution_count": 85,
   "metadata": {},
   "outputs": [
    {
     "data": {
      "image/png": "[encoded data removed]",
      "text/plain": [
       "<Figure size 576x432 with 1 Axes>"
      ]
     },
     "metadata": {
      "needs_background": "light"
     },
     "output_type": "display_data"
    }
   ],
   "source": [
    "plt.bar(np.arange(2), [stem_8hrs_p, nonstem_8hrs_p], align='center')\n",
    "plt.xticks(ticks=np.arange(2), labels=['STEM', 'non-STEM'])\n",
    "plt.ylabel('Percentage');\n",
    "plt.title('Percent of Classes Where Students Studied 8hrs or More', pad=10)\n",
    "\n",
    "plt.show()"
   ]
  },
  {
   "cell_type": "markdown",
   "metadata": {},
   "source": [
    "It is clear from this graph that non-STEM students generally do not have to study as much, since only about 5% of classes reported an average of studying 8 hours or more per week."
   ]
  },
  {
   "cell_type": "markdown",
   "metadata": {},
   "source": [
    "Once again, we can look at all the classes where students studied 8 hours or more per week on average, and out of those classes, how many had an average grade of at least a 3.3, and we can compare STEM and non-STEM classes for these values."
   ]
  },
  {
   "cell_type": "code",
   "execution_count": 86,
   "metadata": {},
   "outputs": [],
   "source": [
    "stem_grades_p = len(stem_8hrs[stem_8hrs['Avg Grade'] >= 3.3]) / len(stem_8hrs) * 100\n",
    "nonstem_grades_p = len(nonstem_8hrs[nonstem_8hrs['Avg Grade'] >= 3.3]) / len(nonstem_8hrs) * 100\n",
    "\n",
    "grades_h = [stem_grades_p, nonstem_grades_p]\n",
    "grades_lh = []\n",
    "for i in range(len(grades_h)):\n",
    "    grades_lh.append(100 - grades_h[i])"
   ]
  },
  {
   "cell_type": "code",
   "execution_count": 87,
   "metadata": {},
   "outputs": [
    {
     "data": {
      "image/png": "[encoded data removed]",
      "text/plain": [
       "<Figure size 576x432 with 1 Axes>"
      ]
     },
     "metadata": {
      "needs_background": "light"
     },
     "output_type": "display_data"
    }
   ],
   "source": [
    "indexes = np.arange(2)\n",
    "bar_width = 0.4\n",
    "\n",
    "res1 = plt.bar(indexes, grades_h, bar_width, align='center', color='blue', label=\"3.3 or greater\")\n",
    "res2 = plt.bar(indexes + bar_width, grades_lh, bar_width, align='center', color='green', label=\"Less than 3.3\")\n",
    "\n",
    "plt.xticks(ticks=indexes+(bar_width/2), labels=['STEM', 'non-STEM'])\n",
    "plt.ylabel('Percentage of Students');\n",
    "plt.title('Average Grades for Classes Where Students Studied 8hrs or More', pad=10)\n",
    "plt.legend()\n",
    "\n",
    "plt.show()"
   ]
  },
  {
   "cell_type": "markdown",
   "metadata": {},
   "source": [
    "This graph shows that in general, STEM classes where students study for at least 8 hours a week do not usually receive average grades better than a B, wheras non-STEM classes where students study at least 8 hours a week receive an average grade better than a B about half the time."
   ]
  },
  {
   "cell_type": "markdown",
   "metadata": {},
   "source": [
    "Furthermore, we can look at how many hours students studied and what percentage of students studied for each specific amount of hours."
   ]
  },
  {
   "cell_type": "code",
   "execution_count": 88,
   "metadata": {},
   "outputs": [],
   "source": [
    "stem_hrs = []\n",
    "nonstem_hrs = []\n",
    "\n",
    "bio_8hrs_h = len(df_bio[(df_bio['Avg Grade'] >= 3.3) & (df_bio['Avg Hours Studied'] >= 8 )]) / len(bio_8hrs) * 100\n",
    "\n",
    "for i in range(0,15):\n",
    "    stem_i_hrs = len(capedf[(capedf['Avg Hours Studied'] >= (i-0.5)) & (capedf['Avg Hours Studied'] < (i+0.5))])\n",
    "    nonstem_i_hrs = len(capedf_nonstem[(capedf_nonstem['Avg Hours Studied'] >= (i-0.5)) & (capedf_nonstem['Avg Hours Studied'] < (i+0.5))])\n",
    "    \n",
    "    stem_i_hrs_p = stem_i_hrs / len(capedf) * 100\n",
    "    nonstem_i_hrs_p = nonstem_i_hrs / len(capedf_nonstem) * 100\n",
    "    \n",
    "    stem_hrs.append(stem_i_hrs_p)\n",
    "    nonstem_hrs.append(nonstem_i_hrs_p)"
   ]
  },
  {
   "cell_type": "code",
   "execution_count": 89,
   "metadata": {},
   "outputs": [
    {
     "data": {
      "image/png": "[encoded data removed]",
      "text/plain": [
       "<Figure size 576x432 with 1 Axes>"
      ]
     },
     "metadata": {
      "needs_background": "light"
     },
     "output_type": "display_data"
    }
   ],
   "source": [
    "plt.plot([0,1,2,3,4,5,6,7,8,9,10,11,12,13,14],stem_hrs,'mo-', label='STEM classes')\n",
    "plt.plot([0,1,2,3,4,5,6,7,8,9,10,11,12,13,14],nonstem_hrs, 'co-', label='non-STEM classes')\n",
    "\n",
    "plt.xticks(ticks=np.arange(15), labels=[0,1,2,3,4,5,6,7,8,9,10,11,12,13,14])\n",
    "plt.title('Average Number of Hours Studied (Percent)', pad=10)\n",
    "plt.xlabel('Avg Hours'); plt.ylabel('Percent of Classes');\n",
    "plt.legend()\n",
    "\n",
    "fig_size = plt.rcParams[\"figure.figsize\"]\n",
    "fig_size[0] = 8\n",
    "fig_size[1] = 7\n",
    "plt.rcParams[\"figure.figsize\"] = fig_size\n",
    "\n",
    "plt.show()\n"
   ]
  },
  {
   "cell_type": "markdown",
   "metadata": {},
   "source": [
    "In general, there is a trend that shows that STEM students spend more hours studying than non-STEM students do."
   ]
  },
  {
   "cell_type": "markdown",
   "metadata": {},
   "source": [
    "Based on what we have seen from these graphs, STEM students spend more time studying than non-STEM students do, but at the same time, STEM students still do not always receive good grades, and in fact, putting in over 8 hours a week still does not get a student a grade higher than a B most of the time. We would think that the more a student studies, the better they will do in the class, but according to these datasets, that is not the case. We see that STEM students study more, but we also see that at the same time, their grades are not as good compared to the grades of non-STEM students. Spending a lot of time studying is mentally taxing and can really take a toll on a person and their well-being, and it takes an even bigger toll when a student invests a lot of time and energy into a class, only to realize that they did not do as well as they maybe thought they could. The difficult and time-consuming nature of classes in the STEM field is not helping to improve the mental health of its students, especially seeing how many students study so much and still do not always do well."
   ]
  },
  {
   "cell_type": "markdown",
   "metadata": {},
   "source": [
    "Now, moving on to a new dataset, to examine courses with the worst grades, we print out the highest D/F rate courses, and we found out that most of them are STEM-related."
   ]
  },
  {
   "cell_type": "code",
   "execution_count": 90,
   "metadata": {},
   "outputs": [
    {
     "data": {
      "text/html": [
       "<div>\n",
       "<style scoped>\n",
       "    .dataframe tbody tr th:only-of-type {\n",
       "        vertical-align: middle;\n",
       "    }\n",
       "\n",
       "    .dataframe tbody tr th {\n",
       "        vertical-align: top;\n",
       "    }\n",
       "\n",
       "    .dataframe thead th {\n",
       "        text-align: right;\n",
       "    }\n",
       "</style>\n",
       "<table border=\"1\" class=\"dataframe\">\n",
       "  <thead>\n",
       "    <tr style=\"text-align: right;\">\n",
       "      <th></th>\n",
       "      <th>course</th>\n",
       "      <th>A</th>\n",
       "      <th>B</th>\n",
       "      <th>C</th>\n",
       "      <th>D</th>\n",
       "      <th>F</th>\n",
       "      <th>Total students</th>\n",
       "      <th>A rate</th>\n",
       "      <th>DF rate</th>\n",
       "    </tr>\n",
       "  </thead>\n",
       "  <tbody>\n",
       "    <tr>\n",
       "      <th>3543</th>\n",
       "      <td>Intermediate Algebra</td>\n",
       "      <td>265</td>\n",
       "      <td>277</td>\n",
       "      <td>222</td>\n",
       "      <td>129</td>\n",
       "      <td>98</td>\n",
       "      <td>1220</td>\n",
       "      <td>0.217213</td>\n",
       "      <td>0.186066</td>\n",
       "    </tr>\n",
       "    <tr>\n",
       "      <th>659</th>\n",
       "      <td>Animal Biology</td>\n",
       "      <td>2513</td>\n",
       "      <td>4450</td>\n",
       "      <td>4153</td>\n",
       "      <td>1802</td>\n",
       "      <td>908</td>\n",
       "      <td>16653</td>\n",
       "      <td>0.150904</td>\n",
       "      <td>0.162733</td>\n",
       "    </tr>\n",
       "    <tr>\n",
       "      <th>4206</th>\n",
       "      <td>Landscape Plants I</td>\n",
       "      <td>28</td>\n",
       "      <td>69</td>\n",
       "      <td>63</td>\n",
       "      <td>33</td>\n",
       "      <td>10</td>\n",
       "      <td>278</td>\n",
       "      <td>0.100719</td>\n",
       "      <td>0.154676</td>\n",
       "    </tr>\n",
       "    <tr>\n",
       "      <th>5376</th>\n",
       "      <td>Political Sociology</td>\n",
       "      <td>57</td>\n",
       "      <td>25</td>\n",
       "      <td>14</td>\n",
       "      <td>14</td>\n",
       "      <td>11</td>\n",
       "      <td>167</td>\n",
       "      <td>0.341317</td>\n",
       "      <td>0.149701</td>\n",
       "    </tr>\n",
       "    <tr>\n",
       "      <th>2130</th>\n",
       "      <td>Emergence of Human Culture</td>\n",
       "      <td>154</td>\n",
       "      <td>167</td>\n",
       "      <td>110</td>\n",
       "      <td>50</td>\n",
       "      <td>42</td>\n",
       "      <td>628</td>\n",
       "      <td>0.245223</td>\n",
       "      <td>0.146497</td>\n",
       "    </tr>\n",
       "    <tr>\n",
       "      <th>2003</th>\n",
       "      <td>Economic Decision Analysis</td>\n",
       "      <td>44</td>\n",
       "      <td>67</td>\n",
       "      <td>51</td>\n",
       "      <td>34</td>\n",
       "      <td>11</td>\n",
       "      <td>314</td>\n",
       "      <td>0.140127</td>\n",
       "      <td>0.143312</td>\n",
       "    </tr>\n",
       "    <tr>\n",
       "      <th>699</th>\n",
       "      <td>Appl Mathematical Analysis</td>\n",
       "      <td>270</td>\n",
       "      <td>316</td>\n",
       "      <td>332</td>\n",
       "      <td>150</td>\n",
       "      <td>72</td>\n",
       "      <td>1572</td>\n",
       "      <td>0.171756</td>\n",
       "      <td>0.141221</td>\n",
       "    </tr>\n",
       "    <tr>\n",
       "      <th>1023</th>\n",
       "      <td>Calc with Algebra &amp; Trig II</td>\n",
       "      <td>641</td>\n",
       "      <td>760</td>\n",
       "      <td>774</td>\n",
       "      <td>329</td>\n",
       "      <td>147</td>\n",
       "      <td>3474</td>\n",
       "      <td>0.184514</td>\n",
       "      <td>0.137018</td>\n",
       "    </tr>\n",
       "    <tr>\n",
       "      <th>1028</th>\n",
       "      <td>Calculus&amp;Analytic Geometry</td>\n",
       "      <td>3533</td>\n",
       "      <td>4054</td>\n",
       "      <td>3221</td>\n",
       "      <td>1306</td>\n",
       "      <td>925</td>\n",
       "      <td>16624</td>\n",
       "      <td>0.212524</td>\n",
       "      <td>0.134204</td>\n",
       "    </tr>\n",
       "    <tr>\n",
       "      <th>555</th>\n",
       "      <td>Algebra</td>\n",
       "      <td>1390</td>\n",
       "      <td>2187</td>\n",
       "      <td>1894</td>\n",
       "      <td>646</td>\n",
       "      <td>377</td>\n",
       "      <td>7700</td>\n",
       "      <td>0.180519</td>\n",
       "      <td>0.132857</td>\n",
       "    </tr>\n",
       "    <tr>\n",
       "      <th>7957</th>\n",
       "      <td>Trigonometry</td>\n",
       "      <td>472</td>\n",
       "      <td>560</td>\n",
       "      <td>480</td>\n",
       "      <td>230</td>\n",
       "      <td>107</td>\n",
       "      <td>2626</td>\n",
       "      <td>0.179741</td>\n",
       "      <td>0.128332</td>\n",
       "    </tr>\n",
       "    <tr>\n",
       "      <th>4347</th>\n",
       "      <td>Life of the Past</td>\n",
       "      <td>120</td>\n",
       "      <td>152</td>\n",
       "      <td>126</td>\n",
       "      <td>57</td>\n",
       "      <td>30</td>\n",
       "      <td>697</td>\n",
       "      <td>0.172166</td>\n",
       "      <td>0.124821</td>\n",
       "    </tr>\n",
       "    <tr>\n",
       "      <th>3997</th>\n",
       "      <td>Intro:Prob&amp;Markov Chain Mod</td>\n",
       "      <td>78</td>\n",
       "      <td>66</td>\n",
       "      <td>43</td>\n",
       "      <td>15</td>\n",
       "      <td>20</td>\n",
       "      <td>286</td>\n",
       "      <td>0.272727</td>\n",
       "      <td>0.122378</td>\n",
       "    </tr>\n",
       "    <tr>\n",
       "      <th>368</th>\n",
       "      <td>Advanced Dynamics</td>\n",
       "      <td>81</td>\n",
       "      <td>122</td>\n",
       "      <td>76</td>\n",
       "      <td>40</td>\n",
       "      <td>18</td>\n",
       "      <td>478</td>\n",
       "      <td>0.169456</td>\n",
       "      <td>0.121339</td>\n",
       "    </tr>\n",
       "    <tr>\n",
       "      <th>7086</th>\n",
       "      <td>Statics</td>\n",
       "      <td>958</td>\n",
       "      <td>1996</td>\n",
       "      <td>1218</td>\n",
       "      <td>484</td>\n",
       "      <td>330</td>\n",
       "      <td>6764</td>\n",
       "      <td>0.141632</td>\n",
       "      <td>0.120343</td>\n",
       "    </tr>\n",
       "    <tr>\n",
       "      <th>5758</th>\n",
       "      <td>Psychology of Perception</td>\n",
       "      <td>153</td>\n",
       "      <td>123</td>\n",
       "      <td>86</td>\n",
       "      <td>46</td>\n",
       "      <td>29</td>\n",
       "      <td>628</td>\n",
       "      <td>0.243631</td>\n",
       "      <td>0.119427</td>\n",
       "    </tr>\n",
       "    <tr>\n",
       "      <th>5586</th>\n",
       "      <td>Principles-Wildlife Ecology</td>\n",
       "      <td>131</td>\n",
       "      <td>247</td>\n",
       "      <td>215</td>\n",
       "      <td>108</td>\n",
       "      <td>29</td>\n",
       "      <td>1153</td>\n",
       "      <td>0.113617</td>\n",
       "      <td>0.118820</td>\n",
       "    </tr>\n",
       "    <tr>\n",
       "      <th>2072</th>\n",
       "      <td>Elem Matrix&amp;Linear Algebra</td>\n",
       "      <td>1096</td>\n",
       "      <td>989</td>\n",
       "      <td>621</td>\n",
       "      <td>319</td>\n",
       "      <td>167</td>\n",
       "      <td>4147</td>\n",
       "      <td>0.264287</td>\n",
       "      <td>0.117193</td>\n",
       "    </tr>\n",
       "    <tr>\n",
       "      <th>4612</th>\n",
       "      <td>Mechanical Vibrations</td>\n",
       "      <td>104</td>\n",
       "      <td>52</td>\n",
       "      <td>68</td>\n",
       "      <td>23</td>\n",
       "      <td>21</td>\n",
       "      <td>376</td>\n",
       "      <td>0.276596</td>\n",
       "      <td>0.117021</td>\n",
       "    </tr>\n",
       "    <tr>\n",
       "      <th>2761</th>\n",
       "      <td>Fundamental Math Skills</td>\n",
       "      <td>53</td>\n",
       "      <td>52</td>\n",
       "      <td>42</td>\n",
       "      <td>16</td>\n",
       "      <td>11</td>\n",
       "      <td>231</td>\n",
       "      <td>0.229437</td>\n",
       "      <td>0.116883</td>\n",
       "    </tr>\n",
       "    <tr>\n",
       "      <th>4585</th>\n",
       "      <td>Mathematical Logic</td>\n",
       "      <td>68</td>\n",
       "      <td>40</td>\n",
       "      <td>23</td>\n",
       "      <td>12</td>\n",
       "      <td>11</td>\n",
       "      <td>197</td>\n",
       "      <td>0.345178</td>\n",
       "      <td>0.116751</td>\n",
       "    </tr>\n",
       "    <tr>\n",
       "      <th>6204</th>\n",
       "      <td>Satellite Dynamics</td>\n",
       "      <td>23</td>\n",
       "      <td>84</td>\n",
       "      <td>47</td>\n",
       "      <td>27</td>\n",
       "      <td>4</td>\n",
       "      <td>269</td>\n",
       "      <td>0.085502</td>\n",
       "      <td>0.115242</td>\n",
       "    </tr>\n",
       "    <tr>\n",
       "      <th>1022</th>\n",
       "      <td>Calc with Algebra &amp; Trig I</td>\n",
       "      <td>898</td>\n",
       "      <td>1157</td>\n",
       "      <td>939</td>\n",
       "      <td>358</td>\n",
       "      <td>192</td>\n",
       "      <td>4899</td>\n",
       "      <td>0.183303</td>\n",
       "      <td>0.112268</td>\n",
       "    </tr>\n",
       "    <tr>\n",
       "      <th>7246</th>\n",
       "      <td>Survey-Photogrphy:1839-1989</td>\n",
       "      <td>170</td>\n",
       "      <td>81</td>\n",
       "      <td>19</td>\n",
       "      <td>39</td>\n",
       "      <td>25</td>\n",
       "      <td>571</td>\n",
       "      <td>0.297723</td>\n",
       "      <td>0.112084</td>\n",
       "    </tr>\n",
       "    <tr>\n",
       "      <th>5577</th>\n",
       "      <td>Principles-Food Preservation</td>\n",
       "      <td>40</td>\n",
       "      <td>120</td>\n",
       "      <td>98</td>\n",
       "      <td>33</td>\n",
       "      <td>5</td>\n",
       "      <td>345</td>\n",
       "      <td>0.115942</td>\n",
       "      <td>0.110145</td>\n",
       "    </tr>\n",
       "  </tbody>\n",
       "</table>\n",
       "</div>"
      ],
      "text/plain": [
       "                            course     A     B     C     D    F  \\\n",
       "3543          Intermediate Algebra   265   277   222   129   98   \n",
       "659                 Animal Biology  2513  4450  4153  1802  908   \n",
       "4206            Landscape Plants I    28    69    63    33   10   \n",
       "5376           Political Sociology    57    25    14    14   11   \n",
       "2130    Emergence of Human Culture   154   167   110    50   42   \n",
       "2003    Economic Decision Analysis    44    67    51    34   11   \n",
       "699     Appl Mathematical Analysis   270   316   332   150   72   \n",
       "1023   Calc with Algebra & Trig II   641   760   774   329  147   \n",
       "1028    Calculus&Analytic Geometry  3533  4054  3221  1306  925   \n",
       "555                        Algebra  1390  2187  1894   646  377   \n",
       "7957                  Trigonometry   472   560   480   230  107   \n",
       "4347              Life of the Past   120   152   126    57   30   \n",
       "3997   Intro:Prob&Markov Chain Mod    78    66    43    15   20   \n",
       "368              Advanced Dynamics    81   122    76    40   18   \n",
       "7086                       Statics   958  1996  1218   484  330   \n",
       "5758      Psychology of Perception   153   123    86    46   29   \n",
       "5586   Principles-Wildlife Ecology   131   247   215   108   29   \n",
       "2072    Elem Matrix&Linear Algebra  1096   989   621   319  167   \n",
       "4612         Mechanical Vibrations   104    52    68    23   21   \n",
       "2761       Fundamental Math Skills    53    52    42    16   11   \n",
       "4585            Mathematical Logic    68    40    23    12   11   \n",
       "6204            Satellite Dynamics    23    84    47    27    4   \n",
       "1022    Calc with Algebra & Trig I   898  1157   939   358  192   \n",
       "7246   Survey-Photogrphy:1839-1989   170    81    19    39   25   \n",
       "5577  Principles-Food Preservation    40   120    98    33    5   \n",
       "\n",
       "      Total students    A rate   DF rate  \n",
       "3543            1220  0.217213  0.186066  \n",
       "659            16653  0.150904  0.162733  \n",
       "4206             278  0.100719  0.154676  \n",
       "5376             167  0.341317  0.149701  \n",
       "2130             628  0.245223  0.146497  \n",
       "2003             314  0.140127  0.143312  \n",
       "699             1572  0.171756  0.141221  \n",
       "1023            3474  0.184514  0.137018  \n",
       "1028           16624  0.212524  0.134204  \n",
       "555             7700  0.180519  0.132857  \n",
       "7957            2626  0.179741  0.128332  \n",
       "4347             697  0.172166  0.124821  \n",
       "3997             286  0.272727  0.122378  \n",
       "368              478  0.169456  0.121339  \n",
       "7086            6764  0.141632  0.120343  \n",
       "5758             628  0.243631  0.119427  \n",
       "5586            1153  0.113617  0.118820  \n",
       "2072            4147  0.264287  0.117193  \n",
       "4612             376  0.276596  0.117021  \n",
       "2761             231  0.229437  0.116883  \n",
       "4585             197  0.345178  0.116751  \n",
       "6204             269  0.085502  0.115242  \n",
       "1022            4899  0.183303  0.112268  \n",
       "7246             571  0.297723  0.112084  \n",
       "5577             345  0.115942  0.110145  "
      ]
     },
     "execution_count": 90,
     "metadata": {},
     "output_type": "execute_result"
    }
   ],
   "source": [
    "#Finding 100 highest D + F rate classes and store it \n",
    "top_100_df = course_unique.nlargest(25, 'DF rate')\n",
    "top_100_df"
   ]
  },
  {
   "cell_type": "markdown",
   "metadata": {},
   "source": [
    "To make a more clear image we also calculate top 100 classes with most A grade and we found out that most of the highest A rate courses are literature/art/non-STEM related. even if they are STEM-related, they are intro (lower division) classes, as we can see in the table below."
   ]
  },
  {
   "cell_type": "code",
   "execution_count": 91,
   "metadata": {
    "scrolled": true
   },
   "outputs": [
    {
     "data": {
      "text/html": [
       "<div>\n",
       "<style scoped>\n",
       "    .dataframe tbody tr th:only-of-type {\n",
       "        vertical-align: middle;\n",
       "    }\n",
       "\n",
       "    .dataframe tbody tr th {\n",
       "        vertical-align: top;\n",
       "    }\n",
       "\n",
       "    .dataframe thead th {\n",
       "        text-align: right;\n",
       "    }\n",
       "</style>\n",
       "<table border=\"1\" class=\"dataframe\">\n",
       "  <thead>\n",
       "    <tr style=\"text-align: right;\">\n",
       "      <th></th>\n",
       "      <th>course</th>\n",
       "      <th>A</th>\n",
       "      <th>B</th>\n",
       "      <th>C</th>\n",
       "      <th>D</th>\n",
       "      <th>F</th>\n",
       "      <th>Total students</th>\n",
       "      <th>A rate</th>\n",
       "      <th>DF rate</th>\n",
       "    </tr>\n",
       "  </thead>\n",
       "  <tbody>\n",
       "    <tr>\n",
       "      <th>6998</th>\n",
       "      <td>Special Topics</td>\n",
       "      <td>20647</td>\n",
       "      <td>2098</td>\n",
       "      <td>364</td>\n",
       "      <td>88</td>\n",
       "      <td>87</td>\n",
       "      <td>35837</td>\n",
       "      <td>0.576136</td>\n",
       "      <td>0.004883</td>\n",
       "    </tr>\n",
       "    <tr>\n",
       "      <th>4883</th>\n",
       "      <td>Music in Performance</td>\n",
       "      <td>16229</td>\n",
       "      <td>268</td>\n",
       "      <td>78</td>\n",
       "      <td>20</td>\n",
       "      <td>44</td>\n",
       "      <td>18521</td>\n",
       "      <td>0.876249</td>\n",
       "      <td>0.003456</td>\n",
       "    </tr>\n",
       "    <tr>\n",
       "      <th>1580</th>\n",
       "      <td>Contemporary Topics</td>\n",
       "      <td>13458</td>\n",
       "      <td>2124</td>\n",
       "      <td>277</td>\n",
       "      <td>40</td>\n",
       "      <td>32</td>\n",
       "      <td>21117</td>\n",
       "      <td>0.637306</td>\n",
       "      <td>0.003410</td>\n",
       "    </tr>\n",
       "    <tr>\n",
       "      <th>2854</th>\n",
       "      <td>General Physics</td>\n",
       "      <td>8951</td>\n",
       "      <td>10447</td>\n",
       "      <td>6678</td>\n",
       "      <td>816</td>\n",
       "      <td>258</td>\n",
       "      <td>44341</td>\n",
       "      <td>0.201867</td>\n",
       "      <td>0.024221</td>\n",
       "    </tr>\n",
       "    <tr>\n",
       "      <th>2841</th>\n",
       "      <td>General Chemistry</td>\n",
       "      <td>8010</td>\n",
       "      <td>9928</td>\n",
       "      <td>5704</td>\n",
       "      <td>1369</td>\n",
       "      <td>514</td>\n",
       "      <td>32856</td>\n",
       "      <td>0.243791</td>\n",
       "      <td>0.057311</td>\n",
       "    </tr>\n",
       "    <tr>\n",
       "      <th>3380</th>\n",
       "      <td>Independent Study</td>\n",
       "      <td>7904</td>\n",
       "      <td>112</td>\n",
       "      <td>11</td>\n",
       "      <td>1</td>\n",
       "      <td>12</td>\n",
       "      <td>8671</td>\n",
       "      <td>0.911544</td>\n",
       "      <td>0.001499</td>\n",
       "    </tr>\n",
       "    <tr>\n",
       "      <th>1848</th>\n",
       "      <td>Directed Study</td>\n",
       "      <td>6751</td>\n",
       "      <td>95</td>\n",
       "      <td>25</td>\n",
       "      <td>4</td>\n",
       "      <td>21</td>\n",
       "      <td>7702</td>\n",
       "      <td>0.876526</td>\n",
       "      <td>0.003246</td>\n",
       "    </tr>\n",
       "    <tr>\n",
       "      <th>3743</th>\n",
       "      <td>Intro to College Composition</td>\n",
       "      <td>6431</td>\n",
       "      <td>560</td>\n",
       "      <td>45</td>\n",
       "      <td>15</td>\n",
       "      <td>17</td>\n",
       "      <td>9181</td>\n",
       "      <td>0.700468</td>\n",
       "      <td>0.003485</td>\n",
       "    </tr>\n",
       "    <tr>\n",
       "      <th>8035</th>\n",
       "      <td>Varsity Band</td>\n",
       "      <td>6308</td>\n",
       "      <td>5</td>\n",
       "      <td>0</td>\n",
       "      <td>0</td>\n",
       "      <td>0</td>\n",
       "      <td>6366</td>\n",
       "      <td>0.990889</td>\n",
       "      <td>0.000000</td>\n",
       "    </tr>\n",
       "    <tr>\n",
       "      <th>4034</th>\n",
       "      <td>Introduction to Psychology</td>\n",
       "      <td>6301</td>\n",
       "      <td>4526</td>\n",
       "      <td>5281</td>\n",
       "      <td>1872</td>\n",
       "      <td>613</td>\n",
       "      <td>29219</td>\n",
       "      <td>0.215647</td>\n",
       "      <td>0.085047</td>\n",
       "    </tr>\n",
       "    <tr>\n",
       "      <th>5580</th>\n",
       "      <td>Principles-Microeconomics</td>\n",
       "      <td>5582</td>\n",
       "      <td>7230</td>\n",
       "      <td>3885</td>\n",
       "      <td>1091</td>\n",
       "      <td>348</td>\n",
       "      <td>29992</td>\n",
       "      <td>0.186116</td>\n",
       "      <td>0.047979</td>\n",
       "    </tr>\n",
       "    <tr>\n",
       "      <th>3283</th>\n",
       "      <td>Human Dev: Ed Effectiveness</td>\n",
       "      <td>5464</td>\n",
       "      <td>274</td>\n",
       "      <td>79</td>\n",
       "      <td>43</td>\n",
       "      <td>70</td>\n",
       "      <td>6640</td>\n",
       "      <td>0.822892</td>\n",
       "      <td>0.017018</td>\n",
       "    </tr>\n",
       "    <tr>\n",
       "      <th>8005</th>\n",
       "      <td>University Band</td>\n",
       "      <td>5302</td>\n",
       "      <td>46</td>\n",
       "      <td>9</td>\n",
       "      <td>3</td>\n",
       "      <td>6</td>\n",
       "      <td>5488</td>\n",
       "      <td>0.966108</td>\n",
       "      <td>0.001640</td>\n",
       "    </tr>\n",
       "    <tr>\n",
       "      <th>5671</th>\n",
       "      <td>Professional Communication</td>\n",
       "      <td>5099</td>\n",
       "      <td>222</td>\n",
       "      <td>12</td>\n",
       "      <td>2</td>\n",
       "      <td>10</td>\n",
       "      <td>8091</td>\n",
       "      <td>0.630206</td>\n",
       "      <td>0.001483</td>\n",
       "    </tr>\n",
       "    <tr>\n",
       "      <th>1669</th>\n",
       "      <td>Cult Anthro&amp;Human Diversity</td>\n",
       "      <td>4844</td>\n",
       "      <td>4596</td>\n",
       "      <td>1023</td>\n",
       "      <td>225</td>\n",
       "      <td>102</td>\n",
       "      <td>16690</td>\n",
       "      <td>0.290234</td>\n",
       "      <td>0.019593</td>\n",
       "    </tr>\n",
       "    <tr>\n",
       "      <th>3977</th>\n",
       "      <td>Intro-Statistical Methods</td>\n",
       "      <td>4641</td>\n",
       "      <td>3267</td>\n",
       "      <td>1643</td>\n",
       "      <td>612</td>\n",
       "      <td>370</td>\n",
       "      <td>14622</td>\n",
       "      <td>0.317398</td>\n",
       "      <td>0.067159</td>\n",
       "    </tr>\n",
       "    <tr>\n",
       "      <th>4050</th>\n",
       "      <td>Introductory Biology</td>\n",
       "      <td>4559</td>\n",
       "      <td>10708</td>\n",
       "      <td>3923</td>\n",
       "      <td>915</td>\n",
       "      <td>219</td>\n",
       "      <td>25021</td>\n",
       "      <td>0.182207</td>\n",
       "      <td>0.045322</td>\n",
       "    </tr>\n",
       "    <tr>\n",
       "      <th>3984</th>\n",
       "      <td>Intro-Theatre &amp; Dramatic Lit</td>\n",
       "      <td>4337</td>\n",
       "      <td>969</td>\n",
       "      <td>176</td>\n",
       "      <td>81</td>\n",
       "      <td>49</td>\n",
       "      <td>8068</td>\n",
       "      <td>0.537556</td>\n",
       "      <td>0.016113</td>\n",
       "    </tr>\n",
       "    <tr>\n",
       "      <th>563</th>\n",
       "      <td>All-Univ String Orchestra</td>\n",
       "      <td>4329</td>\n",
       "      <td>21</td>\n",
       "      <td>9</td>\n",
       "      <td>5</td>\n",
       "      <td>11</td>\n",
       "      <td>4484</td>\n",
       "      <td>0.965433</td>\n",
       "      <td>0.003568</td>\n",
       "    </tr>\n",
       "    <tr>\n",
       "      <th>1024</th>\n",
       "      <td>Calc--Functns of Variables</td>\n",
       "      <td>4320</td>\n",
       "      <td>4233</td>\n",
       "      <td>3002</td>\n",
       "      <td>1003</td>\n",
       "      <td>575</td>\n",
       "      <td>17479</td>\n",
       "      <td>0.247154</td>\n",
       "      <td>0.090280</td>\n",
       "    </tr>\n",
       "    <tr>\n",
       "      <th>3676</th>\n",
       "      <td>Intro Organic Chemistry</td>\n",
       "      <td>4051</td>\n",
       "      <td>5315</td>\n",
       "      <td>4744</td>\n",
       "      <td>1116</td>\n",
       "      <td>724</td>\n",
       "      <td>19623</td>\n",
       "      <td>0.206441</td>\n",
       "      <td>0.093768</td>\n",
       "    </tr>\n",
       "    <tr>\n",
       "      <th>2739</th>\n",
       "      <td>Freshman Composition</td>\n",
       "      <td>4004</td>\n",
       "      <td>1035</td>\n",
       "      <td>109</td>\n",
       "      <td>18</td>\n",
       "      <td>46</td>\n",
       "      <td>7837</td>\n",
       "      <td>0.510910</td>\n",
       "      <td>0.008166</td>\n",
       "    </tr>\n",
       "    <tr>\n",
       "      <th>3025</th>\n",
       "      <td>Health Care: Intrdis Appr</td>\n",
       "      <td>3758</td>\n",
       "      <td>106</td>\n",
       "      <td>17</td>\n",
       "      <td>18</td>\n",
       "      <td>14</td>\n",
       "      <td>4363</td>\n",
       "      <td>0.861334</td>\n",
       "      <td>0.007334</td>\n",
       "    </tr>\n",
       "    <tr>\n",
       "      <th>8183</th>\n",
       "      <td>Womens Bodies-Hlth&amp;Disease</td>\n",
       "      <td>3716</td>\n",
       "      <td>895</td>\n",
       "      <td>178</td>\n",
       "      <td>38</td>\n",
       "      <td>40</td>\n",
       "      <td>7268</td>\n",
       "      <td>0.511282</td>\n",
       "      <td>0.010732</td>\n",
       "    </tr>\n",
       "    <tr>\n",
       "      <th>1028</th>\n",
       "      <td>Calculus&amp;Analytic Geometry</td>\n",
       "      <td>3533</td>\n",
       "      <td>4054</td>\n",
       "      <td>3221</td>\n",
       "      <td>1306</td>\n",
       "      <td>925</td>\n",
       "      <td>16624</td>\n",
       "      <td>0.212524</td>\n",
       "      <td>0.134204</td>\n",
       "    </tr>\n",
       "  </tbody>\n",
       "</table>\n",
       "</div>"
      ],
      "text/plain": [
       "                            course      A      B     C     D    F  \\\n",
       "6998                Special Topics  20647   2098   364    88   87   \n",
       "4883          Music in Performance  16229    268    78    20   44   \n",
       "1580           Contemporary Topics  13458   2124   277    40   32   \n",
       "2854               General Physics   8951  10447  6678   816  258   \n",
       "2841             General Chemistry   8010   9928  5704  1369  514   \n",
       "3380             Independent Study   7904    112    11     1   12   \n",
       "1848                Directed Study   6751     95    25     4   21   \n",
       "3743  Intro to College Composition   6431    560    45    15   17   \n",
       "8035                  Varsity Band   6308      5     0     0    0   \n",
       "4034    Introduction to Psychology   6301   4526  5281  1872  613   \n",
       "5580     Principles-Microeconomics   5582   7230  3885  1091  348   \n",
       "3283   Human Dev: Ed Effectiveness   5464    274    79    43   70   \n",
       "8005               University Band   5302     46     9     3    6   \n",
       "5671    Professional Communication   5099    222    12     2   10   \n",
       "1669   Cult Anthro&Human Diversity   4844   4596  1023   225  102   \n",
       "3977     Intro-Statistical Methods   4641   3267  1643   612  370   \n",
       "4050          Introductory Biology   4559  10708  3923   915  219   \n",
       "3984  Intro-Theatre & Dramatic Lit   4337    969   176    81   49   \n",
       "563      All-Univ String Orchestra   4329     21     9     5   11   \n",
       "1024    Calc--Functns of Variables   4320   4233  3002  1003  575   \n",
       "3676       Intro Organic Chemistry   4051   5315  4744  1116  724   \n",
       "2739          Freshman Composition   4004   1035   109    18   46   \n",
       "3025     Health Care: Intrdis Appr   3758    106    17    18   14   \n",
       "8183    Womens Bodies-Hlth&Disease   3716    895   178    38   40   \n",
       "1028    Calculus&Analytic Geometry   3533   4054  3221  1306  925   \n",
       "\n",
       "      Total students    A rate   DF rate  \n",
       "6998           35837  0.576136  0.004883  \n",
       "4883           18521  0.876249  0.003456  \n",
       "1580           21117  0.637306  0.003410  \n",
       "2854           44341  0.201867  0.024221  \n",
       "2841           32856  0.243791  0.057311  \n",
       "3380            8671  0.911544  0.001499  \n",
       "1848            7702  0.876526  0.003246  \n",
       "3743            9181  0.700468  0.003485  \n",
       "8035            6366  0.990889  0.000000  \n",
       "4034           29219  0.215647  0.085047  \n",
       "5580           29992  0.186116  0.047979  \n",
       "3283            6640  0.822892  0.017018  \n",
       "8005            5488  0.966108  0.001640  \n",
       "5671            8091  0.630206  0.001483  \n",
       "1669           16690  0.290234  0.019593  \n",
       "3977           14622  0.317398  0.067159  \n",
       "4050           25021  0.182207  0.045322  \n",
       "3984            8068  0.537556  0.016113  \n",
       "563             4484  0.965433  0.003568  \n",
       "1024           17479  0.247154  0.090280  \n",
       "3676           19623  0.206441  0.093768  \n",
       "2739            7837  0.510910  0.008166  \n",
       "3025            4363  0.861334  0.007334  \n",
       "8183            7268  0.511282  0.010732  \n",
       "1028           16624  0.212524  0.134204  "
      ]
     },
     "execution_count": 91,
     "metadata": {},
     "output_type": "execute_result"
    }
   ],
   "source": [
    "# find the highest A rate course\n",
    "top_100_a = course_unique.nlargest(25, 'A')\n",
    "top_100_a"
   ]
  },
  {
   "cell_type": "markdown",
   "metadata": {},
   "source": [
    "Once again, we see that STEM students do not receive the best grades. Combining it with the fact that they also spend a lot of time studying, as we saw earlier, it further supports the fact that STEM students have to work really hard, and they do, sseing the hours they put in, but they are still not getting the best grades. It shows how challenging the STEM field is and how much students are being pushed to do more and try to do better, and that's really not always good, considering how STEM students still do not get the best grades even after studying a lot."
   ]
  },
  {
   "cell_type": "markdown",
   "metadata": {},
   "source": [
    "Now, let's look at different majors and their employment rate statistics."
   ]
  },
  {
   "cell_type": "code",
   "execution_count": 92,
   "metadata": {},
   "outputs": [
    {
     "data": {
      "image/png": "[encoded data removed]",
      "text/plain": [
       "<Figure size 576x504 with 1 Axes>"
      ]
     },
     "metadata": {
      "needs_background": "light"
     },
     "output_type": "display_data"
    }
   ],
   "source": [
    "#major category count\n",
    "df_grad['Major_category'].value_counts()\n",
    "df_grad['Major_category'].value_counts().plot.barh()\n",
    "plt.show()"
   ]
  },
  {
   "cell_type": "markdown",
   "metadata": {},
   "source": [
    "We dropped unnecessary columns that are not directly related to our analysis and only kept employement and unemployment for both graduates and nongraduates."
   ]
  },
  {
   "cell_type": "code",
   "execution_count": 93,
   "metadata": {},
   "outputs": [
    {
     "data": {
      "text/html": [
       "<div>\n",
       "<style scoped>\n",
       "    .dataframe tbody tr th:only-of-type {\n",
       "        vertical-align: middle;\n",
       "    }\n",
       "\n",
       "    .dataframe tbody tr th {\n",
       "        vertical-align: top;\n",
       "    }\n",
       "\n",
       "    .dataframe thead th {\n",
       "        text-align: right;\n",
       "    }\n",
       "</style>\n",
       "<table border=\"1\" class=\"dataframe\">\n",
       "  <thead>\n",
       "    <tr style=\"text-align: right;\">\n",
       "      <th></th>\n",
       "      <th>Major_category</th>\n",
       "      <th>Grad_total</th>\n",
       "      <th>Grad_sample_size</th>\n",
       "      <th>Grad_employed</th>\n",
       "      <th>Grad_unemployed</th>\n",
       "      <th>Nongrad_total</th>\n",
       "      <th>Nongrad_employed</th>\n",
       "      <th>Nongrad_unemployed</th>\n",
       "    </tr>\n",
       "  </thead>\n",
       "  <tbody>\n",
       "    <tr>\n",
       "      <th>0</th>\n",
       "      <td>Agriculture &amp; Natural Resources</td>\n",
       "      <td>241342</td>\n",
       "      <td>4985</td>\n",
       "      <td>179287</td>\n",
       "      <td>4995</td>\n",
       "      <td>599239</td>\n",
       "      <td>453541</td>\n",
       "      <td>16437</td>\n",
       "    </tr>\n",
       "    <tr>\n",
       "      <th>1</th>\n",
       "      <td>Arts</td>\n",
       "      <td>580416</td>\n",
       "      <td>8410</td>\n",
       "      <td>422450</td>\n",
       "      <td>24559</td>\n",
       "      <td>1657523</td>\n",
       "      <td>1194452</td>\n",
       "      <td>88900</td>\n",
       "    </tr>\n",
       "    <tr>\n",
       "      <th>2</th>\n",
       "      <td>Biology &amp; Life Science</td>\n",
       "      <td>1656556</td>\n",
       "      <td>33497</td>\n",
       "      <td>1365336</td>\n",
       "      <td>32022</td>\n",
       "      <td>1145597</td>\n",
       "      <td>831399</td>\n",
       "      <td>44656</td>\n",
       "    </tr>\n",
       "    <tr>\n",
       "      <th>3</th>\n",
       "      <td>Business</td>\n",
       "      <td>2718897</td>\n",
       "      <td>53120</td>\n",
       "      <td>2124495</td>\n",
       "      <td>101994</td>\n",
       "      <td>9345634</td>\n",
       "      <td>7123852</td>\n",
       "      <td>393222</td>\n",
       "    </tr>\n",
       "    <tr>\n",
       "      <th>4</th>\n",
       "      <td>Communications &amp; Journalism</td>\n",
       "      <td>462880</td>\n",
       "      <td>8639</td>\n",
       "      <td>368390</td>\n",
       "      <td>17733</td>\n",
       "      <td>1635679</td>\n",
       "      <td>1285961</td>\n",
       "      <td>86476</td>\n",
       "    </tr>\n",
       "    <tr>\n",
       "      <th>5</th>\n",
       "      <td>Computers &amp; Mathematics</td>\n",
       "      <td>919817</td>\n",
       "      <td>17155</td>\n",
       "      <td>716607</td>\n",
       "      <td>29062</td>\n",
       "      <td>1676169</td>\n",
       "      <td>1332370</td>\n",
       "      <td>70960</td>\n",
       "    </tr>\n",
       "    <tr>\n",
       "      <th>6</th>\n",
       "      <td>Education</td>\n",
       "      <td>3945300</td>\n",
       "      <td>53944</td>\n",
       "      <td>2437166</td>\n",
       "      <td>66938</td>\n",
       "      <td>4488291</td>\n",
       "      <td>2659824</td>\n",
       "      <td>111875</td>\n",
       "    </tr>\n",
       "    <tr>\n",
       "      <th>7</th>\n",
       "      <td>Engineering</td>\n",
       "      <td>2132524</td>\n",
       "      <td>42469</td>\n",
       "      <td>1634563</td>\n",
       "      <td>65073</td>\n",
       "      <td>3382085</td>\n",
       "      <td>2483802</td>\n",
       "      <td>132162</td>\n",
       "    </tr>\n",
       "    <tr>\n",
       "      <th>8</th>\n",
       "      <td>Health</td>\n",
       "      <td>1468337</td>\n",
       "      <td>26089</td>\n",
       "      <td>1148800</td>\n",
       "      <td>25962</td>\n",
       "      <td>2768323</td>\n",
       "      <td>2058011</td>\n",
       "      <td>63621</td>\n",
       "    </tr>\n",
       "    <tr>\n",
       "      <th>9</th>\n",
       "      <td>Humanities &amp; Liberal Arts</td>\n",
       "      <td>2825975</td>\n",
       "      <td>47225</td>\n",
       "      <td>1986572</td>\n",
       "      <td>85033</td>\n",
       "      <td>3448921</td>\n",
       "      <td>2289696</td>\n",
       "      <td>154239</td>\n",
       "    </tr>\n",
       "    <tr>\n",
       "      <th>10</th>\n",
       "      <td>Industrial Arts &amp; Consumer Services</td>\n",
       "      <td>317219</td>\n",
       "      <td>5601</td>\n",
       "      <td>239338</td>\n",
       "      <td>8983</td>\n",
       "      <td>939696</td>\n",
       "      <td>680035</td>\n",
       "      <td>33771</td>\n",
       "    </tr>\n",
       "    <tr>\n",
       "      <th>11</th>\n",
       "      <td>Interdisciplinary</td>\n",
       "      <td>14405</td>\n",
       "      <td>318</td>\n",
       "      <td>12708</td>\n",
       "      <td>261</td>\n",
       "      <td>41018</td>\n",
       "      <td>32600</td>\n",
       "      <td>2573</td>\n",
       "    </tr>\n",
       "    <tr>\n",
       "      <th>12</th>\n",
       "      <td>Law &amp; Public Policy</td>\n",
       "      <td>280852</td>\n",
       "      <td>5448</td>\n",
       "      <td>224832</td>\n",
       "      <td>10011</td>\n",
       "      <td>831050</td>\n",
       "      <td>664417</td>\n",
       "      <td>36224</td>\n",
       "    </tr>\n",
       "    <tr>\n",
       "      <th>13</th>\n",
       "      <td>Physical Sciences</td>\n",
       "      <td>1052485</td>\n",
       "      <td>19360</td>\n",
       "      <td>770365</td>\n",
       "      <td>24030</td>\n",
       "      <td>952098</td>\n",
       "      <td>656340</td>\n",
       "      <td>34404</td>\n",
       "    </tr>\n",
       "    <tr>\n",
       "      <th>14</th>\n",
       "      <td>Psychology &amp; Social Work</td>\n",
       "      <td>1630545</td>\n",
       "      <td>28044</td>\n",
       "      <td>1255928</td>\n",
       "      <td>49428</td>\n",
       "      <td>1795602</td>\n",
       "      <td>1271014</td>\n",
       "      <td>87224</td>\n",
       "    </tr>\n",
       "    <tr>\n",
       "      <th>15</th>\n",
       "      <td>Social Science</td>\n",
       "      <td>1839710</td>\n",
       "      <td>35097</td>\n",
       "      <td>1381570</td>\n",
       "      <td>60528</td>\n",
       "      <td>2439689</td>\n",
       "      <td>1720445</td>\n",
       "      <td>111390</td>\n",
       "    </tr>\n",
       "  </tbody>\n",
       "</table>\n",
       "</div>"
      ],
      "text/plain": [
       "                         Major_category  Grad_total  Grad_sample_size  \\\n",
       "0       Agriculture & Natural Resources      241342              4985   \n",
       "1                                  Arts      580416              8410   \n",
       "2                Biology & Life Science     1656556             33497   \n",
       "3                              Business     2718897             53120   \n",
       "4           Communications & Journalism      462880              8639   \n",
       "5               Computers & Mathematics      919817             17155   \n",
       "6                             Education     3945300             53944   \n",
       "7                           Engineering     2132524             42469   \n",
       "8                                Health     1468337             26089   \n",
       "9             Humanities & Liberal Arts     2825975             47225   \n",
       "10  Industrial Arts & Consumer Services      317219              5601   \n",
       "11                    Interdisciplinary       14405               318   \n",
       "12                  Law & Public Policy      280852              5448   \n",
       "13                    Physical Sciences     1052485             19360   \n",
       "14             Psychology & Social Work     1630545             28044   \n",
       "15                       Social Science     1839710             35097   \n",
       "\n",
       "    Grad_employed  Grad_unemployed  Nongrad_total  Nongrad_employed  \\\n",
       "0          179287             4995         599239            453541   \n",
       "1          422450            24559        1657523           1194452   \n",
       "2         1365336            32022        1145597            831399   \n",
       "3         2124495           101994        9345634           7123852   \n",
       "4          368390            17733        1635679           1285961   \n",
       "5          716607            29062        1676169           1332370   \n",
       "6         2437166            66938        4488291           2659824   \n",
       "7         1634563            65073        3382085           2483802   \n",
       "8         1148800            25962        2768323           2058011   \n",
       "9         1986572            85033        3448921           2289696   \n",
       "10         239338             8983         939696            680035   \n",
       "11          12708              261          41018             32600   \n",
       "12         224832            10011         831050            664417   \n",
       "13         770365            24030         952098            656340   \n",
       "14        1255928            49428        1795602           1271014   \n",
       "15        1381570            60528        2439689           1720445   \n",
       "\n",
       "    Nongrad_unemployed  \n",
       "0                16437  \n",
       "1                88900  \n",
       "2                44656  \n",
       "3               393222  \n",
       "4                86476  \n",
       "5                70960  \n",
       "6               111875  \n",
       "7               132162  \n",
       "8                63621  \n",
       "9               154239  \n",
       "10               33771  \n",
       "11                2573  \n",
       "12               36224  \n",
       "13               34404  \n",
       "14               87224  \n",
       "15              111390  "
      ]
     },
     "execution_count": 93,
     "metadata": {},
     "output_type": "execute_result"
    }
   ],
   "source": [
    "# grouped by the major categories, without repetition.\n",
    "unique_majors=df_grad.groupby('Major_category', as_index=False).sum()\n",
    "\n",
    "unique_majors"
   ]
  },
  {
   "cell_type": "markdown",
   "metadata": {},
   "source": [
    "We calculate the employment rates and unemployment rates for both graduates and nongraduates and combine them to get a overall employment rates."
   ]
  },
  {
   "cell_type": "code",
   "execution_count": 94,
   "metadata": {},
   "outputs": [
    {
     "data": {
      "text/html": [
       "<div>\n",
       "<style scoped>\n",
       "    .dataframe tbody tr th:only-of-type {\n",
       "        vertical-align: middle;\n",
       "    }\n",
       "\n",
       "    .dataframe tbody tr th {\n",
       "        vertical-align: top;\n",
       "    }\n",
       "\n",
       "    .dataframe thead th {\n",
       "        text-align: right;\n",
       "    }\n",
       "</style>\n",
       "<table border=\"1\" class=\"dataframe\">\n",
       "  <thead>\n",
       "    <tr style=\"text-align: right;\">\n",
       "      <th></th>\n",
       "      <th>Major_category</th>\n",
       "      <th>Grad_total</th>\n",
       "      <th>Grad_sample_size</th>\n",
       "      <th>Grad_employed</th>\n",
       "      <th>Grad_unemployed</th>\n",
       "      <th>Nongrad_total</th>\n",
       "      <th>Nongrad_employed</th>\n",
       "      <th>Nongrad_unemployed</th>\n",
       "      <th>employed_rates_g</th>\n",
       "      <th>unemployed_rates_g</th>\n",
       "      <th>employed_rates_non</th>\n",
       "      <th>unemployed_rates_non</th>\n",
       "    </tr>\n",
       "  </thead>\n",
       "  <tbody>\n",
       "    <tr>\n",
       "      <th>0</th>\n",
       "      <td>Agriculture &amp; Natural Resources</td>\n",
       "      <td>241342</td>\n",
       "      <td>4985</td>\n",
       "      <td>179287</td>\n",
       "      <td>4995</td>\n",
       "      <td>599239</td>\n",
       "      <td>453541</td>\n",
       "      <td>16437</td>\n",
       "      <td>0.742875</td>\n",
       "      <td>0.020697</td>\n",
       "      <td>0.756862</td>\n",
       "      <td>0.027430</td>\n",
       "    </tr>\n",
       "    <tr>\n",
       "      <th>1</th>\n",
       "      <td>Arts</td>\n",
       "      <td>580416</td>\n",
       "      <td>8410</td>\n",
       "      <td>422450</td>\n",
       "      <td>24559</td>\n",
       "      <td>1657523</td>\n",
       "      <td>1194452</td>\n",
       "      <td>88900</td>\n",
       "      <td>0.727840</td>\n",
       "      <td>0.042313</td>\n",
       "      <td>0.720625</td>\n",
       "      <td>0.053634</td>\n",
       "    </tr>\n",
       "    <tr>\n",
       "      <th>2</th>\n",
       "      <td>Biology &amp; Life Science</td>\n",
       "      <td>1656556</td>\n",
       "      <td>33497</td>\n",
       "      <td>1365336</td>\n",
       "      <td>32022</td>\n",
       "      <td>1145597</td>\n",
       "      <td>831399</td>\n",
       "      <td>44656</td>\n",
       "      <td>0.824202</td>\n",
       "      <td>0.019330</td>\n",
       "      <td>0.725734</td>\n",
       "      <td>0.038981</td>\n",
       "    </tr>\n",
       "    <tr>\n",
       "      <th>3</th>\n",
       "      <td>Business</td>\n",
       "      <td>2718897</td>\n",
       "      <td>53120</td>\n",
       "      <td>2124495</td>\n",
       "      <td>101994</td>\n",
       "      <td>9345634</td>\n",
       "      <td>7123852</td>\n",
       "      <td>393222</td>\n",
       "      <td>0.781381</td>\n",
       "      <td>0.037513</td>\n",
       "      <td>0.762265</td>\n",
       "      <td>0.042075</td>\n",
       "    </tr>\n",
       "    <tr>\n",
       "      <th>4</th>\n",
       "      <td>Communications &amp; Journalism</td>\n",
       "      <td>462880</td>\n",
       "      <td>8639</td>\n",
       "      <td>368390</td>\n",
       "      <td>17733</td>\n",
       "      <td>1635679</td>\n",
       "      <td>1285961</td>\n",
       "      <td>86476</td>\n",
       "      <td>0.795865</td>\n",
       "      <td>0.038310</td>\n",
       "      <td>0.786194</td>\n",
       "      <td>0.052869</td>\n",
       "    </tr>\n",
       "    <tr>\n",
       "      <th>5</th>\n",
       "      <td>Computers &amp; Mathematics</td>\n",
       "      <td>919817</td>\n",
       "      <td>17155</td>\n",
       "      <td>716607</td>\n",
       "      <td>29062</td>\n",
       "      <td>1676169</td>\n",
       "      <td>1332370</td>\n",
       "      <td>70960</td>\n",
       "      <td>0.779076</td>\n",
       "      <td>0.031595</td>\n",
       "      <td>0.794890</td>\n",
       "      <td>0.042335</td>\n",
       "    </tr>\n",
       "    <tr>\n",
       "      <th>6</th>\n",
       "      <td>Education</td>\n",
       "      <td>3945300</td>\n",
       "      <td>53944</td>\n",
       "      <td>2437166</td>\n",
       "      <td>66938</td>\n",
       "      <td>4488291</td>\n",
       "      <td>2659824</td>\n",
       "      <td>111875</td>\n",
       "      <td>0.617739</td>\n",
       "      <td>0.016967</td>\n",
       "      <td>0.592614</td>\n",
       "      <td>0.024926</td>\n",
       "    </tr>\n",
       "    <tr>\n",
       "      <th>7</th>\n",
       "      <td>Engineering</td>\n",
       "      <td>2132524</td>\n",
       "      <td>42469</td>\n",
       "      <td>1634563</td>\n",
       "      <td>65073</td>\n",
       "      <td>3382085</td>\n",
       "      <td>2483802</td>\n",
       "      <td>132162</td>\n",
       "      <td>0.766492</td>\n",
       "      <td>0.030515</td>\n",
       "      <td>0.734400</td>\n",
       "      <td>0.039077</td>\n",
       "    </tr>\n",
       "    <tr>\n",
       "      <th>8</th>\n",
       "      <td>Health</td>\n",
       "      <td>1468337</td>\n",
       "      <td>26089</td>\n",
       "      <td>1148800</td>\n",
       "      <td>25962</td>\n",
       "      <td>2768323</td>\n",
       "      <td>2058011</td>\n",
       "      <td>63621</td>\n",
       "      <td>0.782382</td>\n",
       "      <td>0.017681</td>\n",
       "      <td>0.743414</td>\n",
       "      <td>0.022982</td>\n",
       "    </tr>\n",
       "    <tr>\n",
       "      <th>9</th>\n",
       "      <td>Humanities &amp; Liberal Arts</td>\n",
       "      <td>2825975</td>\n",
       "      <td>47225</td>\n",
       "      <td>1986572</td>\n",
       "      <td>85033</td>\n",
       "      <td>3448921</td>\n",
       "      <td>2289696</td>\n",
       "      <td>154239</td>\n",
       "      <td>0.702969</td>\n",
       "      <td>0.030090</td>\n",
       "      <td>0.663888</td>\n",
       "      <td>0.044721</td>\n",
       "    </tr>\n",
       "    <tr>\n",
       "      <th>10</th>\n",
       "      <td>Industrial Arts &amp; Consumer Services</td>\n",
       "      <td>317219</td>\n",
       "      <td>5601</td>\n",
       "      <td>239338</td>\n",
       "      <td>8983</td>\n",
       "      <td>939696</td>\n",
       "      <td>680035</td>\n",
       "      <td>33771</td>\n",
       "      <td>0.754488</td>\n",
       "      <td>0.028318</td>\n",
       "      <td>0.723676</td>\n",
       "      <td>0.035938</td>\n",
       "    </tr>\n",
       "    <tr>\n",
       "      <th>11</th>\n",
       "      <td>Interdisciplinary</td>\n",
       "      <td>14405</td>\n",
       "      <td>318</td>\n",
       "      <td>12708</td>\n",
       "      <td>261</td>\n",
       "      <td>41018</td>\n",
       "      <td>32600</td>\n",
       "      <td>2573</td>\n",
       "      <td>0.882194</td>\n",
       "      <td>0.018119</td>\n",
       "      <td>0.794773</td>\n",
       "      <td>0.062729</td>\n",
       "    </tr>\n",
       "    <tr>\n",
       "      <th>12</th>\n",
       "      <td>Law &amp; Public Policy</td>\n",
       "      <td>280852</td>\n",
       "      <td>5448</td>\n",
       "      <td>224832</td>\n",
       "      <td>10011</td>\n",
       "      <td>831050</td>\n",
       "      <td>664417</td>\n",
       "      <td>36224</td>\n",
       "      <td>0.800536</td>\n",
       "      <td>0.035645</td>\n",
       "      <td>0.799491</td>\n",
       "      <td>0.043588</td>\n",
       "    </tr>\n",
       "    <tr>\n",
       "      <th>13</th>\n",
       "      <td>Physical Sciences</td>\n",
       "      <td>1052485</td>\n",
       "      <td>19360</td>\n",
       "      <td>770365</td>\n",
       "      <td>24030</td>\n",
       "      <td>952098</td>\n",
       "      <td>656340</td>\n",
       "      <td>34404</td>\n",
       "      <td>0.731949</td>\n",
       "      <td>0.022832</td>\n",
       "      <td>0.689362</td>\n",
       "      <td>0.036135</td>\n",
       "    </tr>\n",
       "    <tr>\n",
       "      <th>14</th>\n",
       "      <td>Psychology &amp; Social Work</td>\n",
       "      <td>1630545</td>\n",
       "      <td>28044</td>\n",
       "      <td>1255928</td>\n",
       "      <td>49428</td>\n",
       "      <td>1795602</td>\n",
       "      <td>1271014</td>\n",
       "      <td>87224</td>\n",
       "      <td>0.770250</td>\n",
       "      <td>0.030314</td>\n",
       "      <td>0.707848</td>\n",
       "      <td>0.048576</td>\n",
       "    </tr>\n",
       "    <tr>\n",
       "      <th>15</th>\n",
       "      <td>Social Science</td>\n",
       "      <td>1839710</td>\n",
       "      <td>35097</td>\n",
       "      <td>1381570</td>\n",
       "      <td>60528</td>\n",
       "      <td>2439689</td>\n",
       "      <td>1720445</td>\n",
       "      <td>111390</td>\n",
       "      <td>0.750972</td>\n",
       "      <td>0.032901</td>\n",
       "      <td>0.705190</td>\n",
       "      <td>0.045657</td>\n",
       "    </tr>\n",
       "  </tbody>\n",
       "</table>\n",
       "</div>"
      ],
      "text/plain": [
       "                         Major_category  Grad_total  Grad_sample_size  \\\n",
       "0       Agriculture & Natural Resources      241342              4985   \n",
       "1                                  Arts      580416              8410   \n",
       "2                Biology & Life Science     1656556             33497   \n",
       "3                              Business     2718897             53120   \n",
       "4           Communications & Journalism      462880              8639   \n",
       "5               Computers & Mathematics      919817             17155   \n",
       "6                             Education     3945300             53944   \n",
       "7                           Engineering     2132524             42469   \n",
       "8                                Health     1468337             26089   \n",
       "9             Humanities & Liberal Arts     2825975             47225   \n",
       "10  Industrial Arts & Consumer Services      317219              5601   \n",
       "11                    Interdisciplinary       14405               318   \n",
       "12                  Law & Public Policy      280852              5448   \n",
       "13                    Physical Sciences     1052485             19360   \n",
       "14             Psychology & Social Work     1630545             28044   \n",
       "15                       Social Science     1839710             35097   \n",
       "\n",
       "    Grad_employed  Grad_unemployed  Nongrad_total  Nongrad_employed  \\\n",
       "0          179287             4995         599239            453541   \n",
       "1          422450            24559        1657523           1194452   \n",
       "2         1365336            32022        1145597            831399   \n",
       "3         2124495           101994        9345634           7123852   \n",
       "4          368390            17733        1635679           1285961   \n",
       "5          716607            29062        1676169           1332370   \n",
       "6         2437166            66938        4488291           2659824   \n",
       "7         1634563            65073        3382085           2483802   \n",
       "8         1148800            25962        2768323           2058011   \n",
       "9         1986572            85033        3448921           2289696   \n",
       "10         239338             8983         939696            680035   \n",
       "11          12708              261          41018             32600   \n",
       "12         224832            10011         831050            664417   \n",
       "13         770365            24030         952098            656340   \n",
       "14        1255928            49428        1795602           1271014   \n",
       "15        1381570            60528        2439689           1720445   \n",
       "\n",
       "    Nongrad_unemployed  employed_rates_g  unemployed_rates_g  \\\n",
       "0                16437          0.742875            0.020697   \n",
       "1                88900          0.727840            0.042313   \n",
       "2                44656          0.824202            0.019330   \n",
       "3               393222          0.781381            0.037513   \n",
       "4                86476          0.795865            0.038310   \n",
       "5                70960          0.779076            0.031595   \n",
       "6               111875          0.617739            0.016967   \n",
       "7               132162          0.766492            0.030515   \n",
       "8                63621          0.782382            0.017681   \n",
       "9               154239          0.702969            0.030090   \n",
       "10               33771          0.754488            0.028318   \n",
       "11                2573          0.882194            0.018119   \n",
       "12               36224          0.800536            0.035645   \n",
       "13               34404          0.731949            0.022832   \n",
       "14               87224          0.770250            0.030314   \n",
       "15              111390          0.750972            0.032901   \n",
       "\n",
       "    employed_rates_non  unemployed_rates_non  \n",
       "0             0.756862              0.027430  \n",
       "1             0.720625              0.053634  \n",
       "2             0.725734              0.038981  \n",
       "3             0.762265              0.042075  \n",
       "4             0.786194              0.052869  \n",
       "5             0.794890              0.042335  \n",
       "6             0.592614              0.024926  \n",
       "7             0.734400              0.039077  \n",
       "8             0.743414              0.022982  \n",
       "9             0.663888              0.044721  \n",
       "10            0.723676              0.035938  \n",
       "11            0.794773              0.062729  \n",
       "12            0.799491              0.043588  \n",
       "13            0.689362              0.036135  \n",
       "14            0.707848              0.048576  \n",
       "15            0.705190              0.045657  "
      ]
     },
     "execution_count": 94,
     "metadata": {},
     "output_type": "execute_result"
    }
   ],
   "source": [
    "#this is the unemployement and employement for both graduates and nongraduates \n",
    "#created a new columns for the rates \n",
    "\n",
    "unique_majors['employed_rates_g']=unique_majors['Grad_employed']/unique_majors['Grad_total']\n",
    "unique_majors['unemployed_rates_g']=unique_majors['Grad_unemployed']/unique_majors['Grad_total']\n",
    "\n",
    "unique_majors['employed_rates_non']=unique_majors['Nongrad_employed']/unique_majors['Nongrad_total']\n",
    "unique_majors['unemployed_rates_non']=unique_majors['Nongrad_unemployed']/unique_majors['Nongrad_total']\n",
    "\n",
    "\n",
    "unique_majors"
   ]
  },
  {
   "cell_type": "markdown",
   "metadata": {},
   "source": [
    "The graph below shows that employment rates are relativly high for STEM-related majors."
   ]
  },
  {
   "cell_type": "code",
   "execution_count": 95,
   "metadata": {},
   "outputs": [
    {
     "data": {
      "image/png": "[encoded data removed]",
      "text/plain": [
       "<Figure size 576x504 with 1 Axes>"
      ]
     },
     "metadata": {
      "needs_background": "light"
     },
     "output_type": "display_data"
    }
   ],
   "source": [
    "#bar graph for employed rates for graduates\n",
    "\n",
    "unique_majors=unique_majors.sort_values(by=['employed_rates_g'])\n",
    "plt.xlabel('Unemployment Rate');\n",
    "\n",
    "fig_size = plt.rcParams[\"figure.figsize\"]\n",
    "fig_size[0] = 6\n",
    "fig_size[1] = 4\n",
    "plt.rcParams[\"figure.figsize\"] = fig_size\n",
    "\n",
    "plt.barh(unique_majors['Major_category'],unique_majors['employed_rates_g'])\n",
    "plt.show()"
   ]
  },
  {
   "cell_type": "markdown",
   "metadata": {},
   "source": [
    "The graph below shows that unemployment rates are relatively high for non STEM-related majors."
   ]
  },
  {
   "cell_type": "code",
   "execution_count": 96,
   "metadata": {},
   "outputs": [
    {
     "data": {
      "image/png": "[encoded data removed]",
      "text/plain": [
       "<Figure size 432x288 with 1 Axes>"
      ]
     },
     "metadata": {
      "needs_background": "light"
     },
     "output_type": "display_data"
    }
   ],
   "source": [
    "#bar graph for unemployement rates for graduates\n",
    "\n",
    "unique_majors=unique_majors.sort_values(by=['unemployed_rates_g'])\n",
    "plt.xlabel('Unemployment Rate');\n",
    "\n",
    "fig_size = plt.rcParams[\"figure.figsize\"]\n",
    "fig_size[0] = 8\n",
    "fig_size[1] = 6\n",
    "plt.rcParams[\"figure.figsize\"] = fig_size\n",
    "\n",
    "plt.barh(unique_majors['Major_category'],unique_majors['unemployed_rates_g'])\n",
    "plt.show()"
   ]
  },
  {
   "cell_type": "code",
   "execution_count": 97,
   "metadata": {},
   "outputs": [
    {
     "data": {
      "image/png": "[encoded data removed]",
      "text/plain": [
       "<Figure size 576x432 with 1 Axes>"
      ]
     },
     "metadata": {
      "needs_background": "light"
     },
     "output_type": "display_data"
    }
   ],
   "source": [
    "#bar graph for employed rates for nongraduates\n",
    "\n",
    "unique_majors=unique_majors.sort_values(by=['employed_rates_non'])\n",
    "plt.xlabel('Unemployment Rate');\n",
    "\n",
    "plt.barh(unique_majors['Major_category'],unique_majors['employed_rates_non'])\n",
    "\n",
    "plt.show()"
   ]
  },
  {
   "cell_type": "markdown",
   "metadata": {},
   "source": [
    "STEM-related majors have relatively high employment rates, even with nongraduates, as seen below."
   ]
  },
  {
   "cell_type": "code",
   "execution_count": 98,
   "metadata": {},
   "outputs": [
    {
     "data": {
      "image/png": "[encoded data removed]",
      "text/plain": [
       "<Figure size 576x432 with 1 Axes>"
      ]
     },
     "metadata": {
      "needs_background": "light"
     },
     "output_type": "display_data"
    }
   ],
   "source": [
    "#bar graph for unemployed rates for nongraduates\n",
    "\n",
    "unique_majors=unique_majors.sort_values(by=['unemployed_rates_non'])\n",
    "plt.xlabel('Unemployment Rate');\n",
    "\n",
    "plt.barh(unique_majors['Major_category'],unique_majors['unemployed_rates_non'])\n",
    "\n",
    "plt.show()"
   ]
  },
  {
   "cell_type": "markdown",
   "metadata": {},
   "source": [
    "As we saw earlier, STEM students spend a lot of time studying but don't always necessarily do well, but looking at data for employment rates, it turns out that it actually does end up being worth it to some extent, since it gets them jobs after college, as we saw from this data. This is what they are working towards in college and this is why they work really hard and sometimes overexert themselves, and although it does usually work out for them because they can get good jobs, this mentality that they develop in college is something that they can also carry to the workplace. STEM majors are always striving to be very knowledgeable in their field and to be the best, because that's what will generally get them a better job and more money. This notion of constantly needing to be better and work harder is good in the sense that people will take their work seriously and always be trying to improve, but it's also bad because it is very possible to try and do more than your brain can handle. This is the kind of mindset that many college graduates bring to the workplace, which could be one reason for mental health conditions later on in the workplace."
   ]
  },
  {
   "cell_type": "markdown",
   "metadata": {},
   "source": [
    "Below are lists of bar charts of survey csv file for the mental health in tech kaggle page. We used value_counts method to obtain responses from each mental health related question in order to figure out the range of mental health issues in Tech insdustries."
   ]
  },
  {
   "cell_type": "code",
   "execution_count": 99,
   "metadata": {},
   "outputs": [
    {
     "data": {
      "text/plain": [
       "No     127\n",
       "Yes     10\n",
       "Name: self_employed, dtype: int64"
      ]
     },
     "execution_count": 99,
     "metadata": {},
     "output_type": "execute_result"
    },
    {
     "data": {
      "image/png": "[encoded data removed]",
      "text/plain": [
       "<Figure size 576x432 with 1 Axes>"
      ]
     },
     "metadata": {
      "needs_background": "light"
     },
     "output_type": "display_data"
    }
   ],
   "source": [
    "#plotted each of the categorical responses \n",
    "#are they self-employed?\n",
    "df_ca['self_employed'].value_counts().plot(x=\"# of responders\",y=\"responses\",title='Are you self-employed?',kind='barh')\n",
    "df_ca['self_employed'].value_counts()"
   ]
  },
  {
   "cell_type": "code",
   "execution_count": 100,
   "metadata": {},
   "outputs": [
    {
     "data": {
      "text/plain": [
       "No     70\n",
       "Yes    68\n",
       "Name: family_history, dtype: int64"
      ]
     },
     "execution_count": 100,
     "metadata": {},
     "output_type": "execute_result"
    },
    {
     "data": {
      "image/png": "[encoded data removed]",
      "text/plain": [
       "<Figure size 576x432 with 1 Axes>"
      ]
     },
     "metadata": {
      "needs_background": "light"
     },
     "output_type": "display_data"
    }
   ],
   "source": [
    "#column = family history\n",
    "df_ca['family_history'].value_counts().plot(title='Do you have a family history of mental illness',kind='barh')\n",
    "df_ca['family_history'].value_counts()"
   ]
  },
  {
   "cell_type": "code",
   "execution_count": 101,
   "metadata": {},
   "outputs": [
    {
     "data": {
      "text/plain": [
       "Yes    86\n",
       "No     52\n",
       "Name: treatment, dtype: int64"
      ]
     },
     "execution_count": 101,
     "metadata": {},
     "output_type": "execute_result"
    },
    {
     "data": {
      "image/png": "[encoded data removed]",
      "text/plain": [
       "<Figure size 576x432 with 1 Axes>"
      ]
     },
     "metadata": {
      "needs_background": "light"
     },
     "output_type": "display_data"
    }
   ],
   "source": [
    "#treatment\n",
    "df_ca['treatment'].value_counts().plot(title='Have you sought treatment for a mental health condition?',kind='barh')\n",
    "df_ca['treatment'].value_counts()"
   ]
  },
  {
   "cell_type": "markdown",
   "metadata": {},
   "source": [
    "As we can see, most of the people who answered these questions have real mental health conditions and have gone to a professional for treatment."
   ]
  },
  {
   "cell_type": "markdown",
   "metadata": {},
   "source": [
    "Below is a bar chart that asks employees do they feel that mental health condition interferes with their work if they had one. We assume that people have answered this question had a mental health conditon. The data of mental health in tech survey included surveys of 1260 people who was working in tech industries in 2015. Based on this data, it shows that around 10 percent of employers were experiencing mental health proplem in Tech industries. "
   ]
  },
  {
   "cell_type": "code",
   "execution_count": 102,
   "metadata": {},
   "outputs": [
    {
     "data": {
      "text/plain": [
       "Sometimes    59\n",
       "Never        20\n",
       "Rarely       19\n",
       "Often        19\n",
       "Name: work_interfere, dtype: int64"
      ]
     },
     "execution_count": 102,
     "metadata": {},
     "output_type": "execute_result"
    },
    {
     "data": {
      "image/png": "[encoded data removed]",
      "text/plain": [
       "<Figure size 576x432 with 1 Axes>"
      ]
     },
     "metadata": {
      "needs_background": "light"
     },
     "output_type": "display_data"
    }
   ],
   "source": [
    "#interference\n",
    "df_ca['work_interfere'].value_counts().plot(title='If you have a mental health condition, do you feel that it interferes with your work?',kind='barh')\n",
    "df_ca['work_interfere'].value_counts()"
   ]
  },
  {
   "cell_type": "markdown",
   "metadata": {},
   "source": [
    "From the bar chart below, we could see that most of the companies have employees more than 1000  "
   ]
  },
  {
   "cell_type": "code",
   "execution_count": 103,
   "metadata": {},
   "outputs": [
    {
     "data": {
      "text/plain": [
       "More than 1000    68\n",
       "6-25              19\n",
       "26-100            18\n",
       "100-500           17\n",
       "1-5               10\n",
       "500-1000           6\n",
       "Name: no_employees, dtype: int64"
      ]
     },
     "execution_count": 103,
     "metadata": {},
     "output_type": "execute_result"
    },
    {
     "data": {
      "image/png": "[encoded data removed]",
      "text/plain": [
       "<Figure size 576x432 with 1 Axes>"
      ]
     },
     "metadata": {
      "needs_background": "light"
     },
     "output_type": "display_data"
    }
   ],
   "source": [
    "#number of employees\n",
    "df_ca['no_employees'].value_counts().plot(title='How many employees does your company or organization have?',kind='barh')\n",
    "df_ca['no_employees'].value_counts()"
   ]
  },
  {
   "cell_type": "code",
   "execution_count": 104,
   "metadata": {},
   "outputs": [
    {
     "data": {
      "text/plain": [
       "No     118\n",
       "Yes     20\n",
       "Name: remote_work, dtype: int64"
      ]
     },
     "execution_count": 104,
     "metadata": {},
     "output_type": "execute_result"
    },
    {
     "data": {
      "image/png": "[encoded data removed]",
      "text/plain": [
       "<Figure size 576x432 with 1 Axes>"
      ]
     },
     "metadata": {
      "needs_background": "light"
     },
     "output_type": "display_data"
    }
   ],
   "source": [
    "#work interferance \n",
    "df_ca['remote_work'].value_counts().plot(title='Do you work remotely at least 50% of the time?',kind='barh')\n",
    "df_ca['remote_work'].value_counts()"
   ]
  },
  {
   "cell_type": "markdown",
   "metadata": {},
   "source": [
    "Most employees do not work remotely, meaning that they are in a work setting around their coworkers every day."
   ]
  },
  {
   "cell_type": "code",
   "execution_count": 105,
   "metadata": {},
   "outputs": [
    {
     "data": {
      "text/plain": [
       "Yes    130\n",
       "No       8\n",
       "Name: tech_company, dtype: int64"
      ]
     },
     "execution_count": 105,
     "metadata": {},
     "output_type": "execute_result"
    },
    {
     "data": {
      "image/png": "[encoded data removed]",
      "text/plain": [
       "<Figure size 576x432 with 1 Axes>"
      ]
     },
     "metadata": {
      "needs_background": "light"
     },
     "output_type": "display_data"
    }
   ],
   "source": [
    "#do they work for a tech company or not\n",
    "df_ca['tech_company'].value_counts().plot(title='Is your employer primarily a tech?',kind='barh')\n",
    "df_ca['tech_company'].value_counts()"
   ]
  },
  {
   "cell_type": "markdown",
   "metadata": {},
   "source": [
    "Most of the companies in tis dataset are tech companies."
   ]
  },
  {
   "cell_type": "code",
   "execution_count": 106,
   "metadata": {},
   "outputs": [
    {
     "data": {
      "text/plain": [
       "Yes           84\n",
       "Don't know    42\n",
       "No            12\n",
       "Name: benefits, dtype: int64"
      ]
     },
     "execution_count": 106,
     "metadata": {},
     "output_type": "execute_result"
    },
    {
     "data": {
      "image/png": "[encoded data removed]",
      "text/plain": [
       "<Figure size 576x432 with 1 Axes>"
      ]
     },
     "metadata": {
      "needs_background": "light"
     },
     "output_type": "display_data"
    }
   ],
   "source": [
    "# benefits\n",
    "df_ca['benefits'].value_counts().plot(title='Does your employer provide mental health benefits?',kind='barh')\n",
    "df_ca['benefits'].value_counts()"
   ]
  },
  {
   "cell_type": "markdown",
   "metadata": {},
   "source": [
    "This bar shows that most of companies do provide mental health benefits, which implies that mental health condition in tech industries are not rare, but rather many employers have realized its ponderance."
   ]
  },
  {
   "cell_type": "code",
   "execution_count": 118,
   "metadata": {},
   "outputs": [
    {
     "data": {
      "text/plain": [
       "Yes         54\n",
       "No          44\n",
       "Not sure    40\n",
       "Name: care_options, dtype: int64"
      ]
     },
     "execution_count": 118,
     "metadata": {},
     "output_type": "execute_result"
    },
    {
     "data": {
      "image/png": "[encoded data removed]",
      "text/plain": [
       "<Figure size 576x432 with 1 Axes>"
      ]
     },
     "metadata": {
      "needs_background": "light"
     },
     "output_type": "display_data"
    }
   ],
   "source": [
    "#care options\n",
    "df_ca['care_options'].value_counts().plot(title='Do you know the options for mental health care your employer provides?',kind='barh')\n",
    "df_ca['care_options'].value_counts()"
   ]
  },
  {
   "cell_type": "markdown",
   "metadata": {},
   "source": [
    "More than half the people who answered say that they do not know or not sure the options for mental health care their employer provides. We could assume that more than half of the employees are not aware of mental health issues, so thay either do not seek for help, or they do not know that they have mental health issues."
   ]
  },
  {
   "cell_type": "code",
   "execution_count": 108,
   "metadata": {},
   "outputs": [
    {
     "data": {
      "text/plain": [
       "No            69\n",
       "Yes           36\n",
       "Don't know    33\n",
       "Name: wellness_program, dtype: int64"
      ]
     },
     "execution_count": 108,
     "metadata": {},
     "output_type": "execute_result"
    },
    {
     "data": {
      "image/png": "[encoded data removed]",
      "text/plain": [
       "<Figure size 576x432 with 1 Axes>"
      ]
     },
     "metadata": {
      "needs_background": "light"
     },
     "output_type": "display_data"
    }
   ],
   "source": [
    "# mental health being part of a wellness program\n",
    "df_ca['wellness_program'].value_counts().plot(title='Has your employer ever discussed mental health as part of an employee wellness program?',kind='barh')\n",
    "df_ca['wellness_program'].value_counts()"
   ]
  },
  {
   "cell_type": "markdown",
   "metadata": {},
   "source": [
    "Many employees reported never having discussed mental health with their employers. Therefore, a lot of people probably are not even aware of the mental health isuues that surround them."
   ]
  },
  {
   "cell_type": "code",
   "execution_count": 109,
   "metadata": {},
   "outputs": [
    {
     "data": {
      "text/plain": [
       "Don't know    49\n",
       "No            46\n",
       "Yes           43\n",
       "Name: seek_help, dtype: int64"
      ]
     },
     "execution_count": 109,
     "metadata": {},
     "output_type": "execute_result"
    },
    {
     "data": {
      "image/png": "[encoded data removed]",
      "text/plain": [
       "<Figure size 576x432 with 1 Axes>"
      ]
     },
     "metadata": {
      "needs_background": "light"
     },
     "output_type": "display_data"
    }
   ],
   "source": [
    "#seeking help\n",
    "df_ca['seek_help'].value_counts().plot(title='Does your employer provide resources to learn more about mental health issues and how to seek help?',kind='barh')\n",
    "df_ca['seek_help'].value_counts()"
   ]
  },
  {
   "cell_type": "markdown",
   "metadata": {},
   "source": [
    "More people said \"no\" to their employers providing resources to learn about mental health than \"yes\", but even more said that they don't know. This means that the majority of employees are not able to learn more about mental health and seek help, and this is not good because when people do not have the opportunity to get the help they need or do not feel comfortable doing so, it pushes them even further into their issues."
   ]
  },
  {
   "cell_type": "code",
   "execution_count": 110,
   "metadata": {},
   "outputs": [
    {
     "data": {
      "text/plain": [
       "Don't know    97\n",
       "Yes           40\n",
       "No             1\n",
       "Name: anonymity, dtype: int64"
      ]
     },
     "execution_count": 110,
     "metadata": {},
     "output_type": "execute_result"
    },
    {
     "data": {
      "image/png": "[encoded data removed]",
      "text/plain": [
       "<Figure size 576x432 with 1 Axes>"
      ]
     },
     "metadata": {
      "needs_background": "light"
     },
     "output_type": "display_data"
    }
   ],
   "source": [
    "#staying anonymous about their mental health condition\n",
    "df_ca['anonymity'].value_counts().plot(title='Is your anonymity protected if you choose to take advantage of mental health or substance abuse treatment resources?',kind='barh')\n",
    "df_ca['anonymity'].value_counts()"
   ]
  },
  {
   "cell_type": "markdown",
   "metadata": {},
   "source": [
    "Again, so many people do not know the answers to these questions, meaning that mental health is not really being treated as something important in these workplaces."
   ]
  },
  {
   "cell_type": "code",
   "execution_count": 111,
   "metadata": {},
   "outputs": [
    {
     "data": {
      "text/plain": [
       "Don't know            77\n",
       "Somewhat easy         20\n",
       "Very easy             19\n",
       "Somewhat difficult    14\n",
       "Very difficult         8\n",
       "Name: leave, dtype: int64"
      ]
     },
     "execution_count": 111,
     "metadata": {},
     "output_type": "execute_result"
    },
    {
     "data": {
      "image/png": "[encoded data removed]",
      "text/plain": [
       "<Figure size 576x432 with 1 Axes>"
      ]
     },
     "metadata": {
      "needs_background": "light"
     },
     "output_type": "display_data"
    }
   ],
   "source": [
    "#if they can receive medical leave for their mental health\n",
    "df_ca['leave'].value_counts().plot(title='How easy is it for you to take medical leave for a mental health condition?',kind='barh')\n",
    "df_ca['leave'].value_counts()"
   ]
  },
  {
   "cell_type": "code",
   "execution_count": 112,
   "metadata": {},
   "outputs": [
    {
     "data": {
      "text/plain": [
       "Maybe    57\n",
       "No       47\n",
       "Yes      34\n",
       "Name: mental_health_consequence, dtype: int64"
      ]
     },
     "execution_count": 112,
     "metadata": {},
     "output_type": "execute_result"
    },
    {
     "data": {
      "image/png": "[encoded data removed]",
      "text/plain": [
       "<Figure size 576x432 with 1 Axes>"
      ]
     },
     "metadata": {
      "needs_background": "light"
     },
     "output_type": "display_data"
    }
   ],
   "source": [
    "#if discussing their mental health will have deprecating consequences on them\n",
    "df_ca['mental_health_consequence'].value_counts().plot(title='Do you think that discussing a mental health issue with your employer would have negative consequences?',kind='barh')\n",
    "df_ca['mental_health_consequence'].value_counts()"
   ]
  },
  {
   "cell_type": "markdown",
   "metadata": {},
   "source": [
    "According to these results, the people who said that discussing mental health issues with their employer would or might have negative consequences are in the majority. This shows how much the work environments in tech companies do not provide a safe area where employees feel comfortable expressing these mental health issues, and in some cases, the issues could be serious, but employees feel that they cannot discuss them. This just leads to people repressing their issues, which can make them even worse."
   ]
  },
  {
   "cell_type": "code",
   "execution_count": 113,
   "metadata": {},
   "outputs": [
    {
     "data": {
      "text/plain": [
       "Some of them    91\n",
       "No              28\n",
       "Yes             19\n",
       "Name: coworkers, dtype: int64"
      ]
     },
     "execution_count": 113,
     "metadata": {},
     "output_type": "execute_result"
    },
    {
     "data": {
      "image/png": "[encoded data removed]",
      "text/plain": [
       "<Figure size 576x432 with 1 Axes>"
      ]
     },
     "metadata": {
      "needs_background": "light"
     },
     "output_type": "display_data"
    }
   ],
   "source": [
    "#if they are willing to discuss their mental health issues with their co-workers\n",
    "df_ca['coworkers'].value_counts().plot(title='Would you be willing to dicuss a mental health issue with your coworkers?',kind='barh')\n",
    "df_ca['coworkers'].value_counts()"
   ]
  },
  {
   "cell_type": "markdown",
   "metadata": {},
   "source": [
    "Most people would discuss their mental health issues with some of their coworkers, which is good."
   ]
  },
  {
   "cell_type": "code",
   "execution_count": 114,
   "metadata": {
    "scrolled": true
   },
   "outputs": [
    {
     "data": {
      "text/plain": [
       "Yes             48\n",
       "No              46\n",
       "Some of them    44\n",
       "Name: supervisor, dtype: int64"
      ]
     },
     "execution_count": 114,
     "metadata": {},
     "output_type": "execute_result"
    },
    {
     "data": {
      "image/png": "[encoded data removed]",
      "text/plain": [
       "<Figure size 576x432 with 1 Axes>"
      ]
     },
     "metadata": {
      "needs_background": "light"
     },
     "output_type": "display_data"
    }
   ],
   "source": [
    "#are they able to talk about their mental health issues with their direct supervisor\n",
    "df_ca['supervisor'].value_counts().plot(title='Would you be willing to discuss a mental health issue with your direct supervisor(s)?',kind='barh')\n",
    "df_ca['supervisor'].value_counts()"
   ]
  },
  {
   "cell_type": "markdown",
   "metadata": {},
   "source": [
    "Based on these results, many employees are not willnig to discuss their mental health issues with their superiors. This is not good because it could make their supervisors unaware of their employees' health conditions and uninententionally could cause them to do things that are harmful to their employees and their mental health."
   ]
  },
  {
   "cell_type": "code",
   "execution_count": 115,
   "metadata": {},
   "outputs": [
    {
     "data": {
      "text/plain": [
       "No       123\n",
       "Maybe     14\n",
       "Yes        1\n",
       "Name: mental_health_interview, dtype: int64"
      ]
     },
     "execution_count": 115,
     "metadata": {},
     "output_type": "execute_result"
    },
    {
     "data": {
      "image/png": "[encoded data removed]",
      "text/plain": [
       "<Figure size 576x432 with 1 Axes>"
      ]
     },
     "metadata": {
      "needs_background": "light"
     },
     "output_type": "display_data"
    }
   ],
   "source": [
    "#would they bring up their mental health issue with their potential employers\n",
    "df_ca['mental_health_interview'].value_counts().plot(title='Would you bring up a mental health issue with a potential employer in an interview?',kind='barh')\n",
    "df_ca['mental_health_interview'].value_counts()"
   ]
  },
  {
   "cell_type": "markdown",
   "metadata": {},
   "source": [
    "Very few people would bring up their mental health issues in job interviews. This could be because people believe that their metnal health issues would be a disadvantage and would decrease their credibility as a candidate. It makes sense for people to believe this, but it also shows that properly taking care of mental health in the workplace is just swept under the rug and does not seem to be a priority."
   ]
  },
  {
   "cell_type": "code",
   "execution_count": 116,
   "metadata": {},
   "outputs": [
    {
     "data": {
      "text/plain": [
       "Don't know    58\n",
       "Yes           41\n",
       "No            39\n",
       "Name: mental_vs_physical, dtype: int64"
      ]
     },
     "execution_count": 116,
     "metadata": {},
     "output_type": "execute_result"
    },
    {
     "data": {
      "image/png": "[encoded data removed]",
      "text/plain": [
       "<Figure size 576x432 with 1 Axes>"
      ]
     },
     "metadata": {
      "needs_background": "light"
     },
     "output_type": "display_data"
    }
   ],
   "source": [
    "#can mental health be taken as seriously as physical health\n",
    "df_ca['mental_vs_physical'].value_counts().plot(title='Do you feel that your employer takes mental health as seriously as physical health?',kind='barh')\n",
    "df_ca['mental_vs_physical'].value_counts()"
   ]
  },
  {
   "cell_type": "code",
   "execution_count": 117,
   "metadata": {
    "scrolled": true
   },
   "outputs": [
    {
     "data": {
      "text/plain": [
       "No     122\n",
       "Yes     16\n",
       "Name: obs_consequence, dtype: int64"
      ]
     },
     "execution_count": 117,
     "metadata": {},
     "output_type": "execute_result"
    },
    {
     "data": {
      "image/png": "[encoded data removed]",
      "text/plain": [
       "<Figure size 576x432 with 1 Axes>"
      ]
     },
     "metadata": {
      "needs_background": "light"
     },
     "output_type": "display_data"
    }
   ],
   "source": [
    "#observing negative consequences for coworkers who discussed their mental health condition in the workplace\n",
    "df_ca['obs_consequence'].value_counts().plot(title='Have you heard of observed negative consequences for cowokers with mental health conditions in your workplace?',kind='barh')\n",
    "df_ca['obs_consequence'].value_counts()"
   ]
  },
  {
   "cell_type": "markdown",
   "metadata": {},
   "source": [
    "Most employees have not heard of negative consequences for those with mental health conditions in their workplace, so it shows that either no one ever talks about it, or the people who do talk about it end up being fine and maybe even benefit from it."
   ]
  },
  {
   "cell_type": "markdown",
   "metadata": {},
   "source": [
    "As we can see from this survey from people who have mental health issues, most of them are not willing to speak about their conditions with their employers or in the workplace. Many of them are also unaware of the different kinds of benefits or resources that are open to them that can help with mental health. This shows that employers in tech companies do not typically prioritize these issues."
   ]
  },
  {
   "cell_type": "markdown",
   "metadata": {},
   "source": [
    "In our project we wanted to see what kinds of factors might influence STEM students to develop mental health issues, and we predicted that the competitive nature of the classes they take push them to do more than they can, which carries over to the workplace as well."
   ]
  },
  {
   "cell_type": "markdown",
   "metadata": {},
   "source": [
    "# Ethics & Privacy"
   ]
  },
  {
   "cell_type": "markdown",
   "metadata": {},
   "source": [
    "The datasets we used for our project were acquired from Kaggle, an online resource hub for the data science and machine learning community, and from the UCSD CAPE website, a collection of course and professor evaluations from the University of California, San Diego. The datasets are open-source, so there was no need to seek approval to use them for our project. While there were no explicit privacy terms that needed to be complied with , we did want to keep in mind the ethics of working with data that highlight an individual’s medical history, which in this case are mental health illnesses. There are indeed biases that may have influenced our data analysis, particularly in that the University of California, San Diego is a predominantly STEM-major college. This suggests a number of environmental and psychological factors that are specific to attending a school of such nature, such as having more immediate access to exceptional educational resources and that attending a STEM-centered college can either create a more competitive/supportive learning environment, depending on the attitudes that compose the student body.  In order to mitigate biases that affect the grades at a STEM-centered school like UCSD, our team took a look at grade distribution data from The University of Washington, whose student body population reflects a much wider range of majors. "
   ]
  },
  {
   "cell_type": "markdown",
   "metadata": {},
   "source": [
    "# Summary of Data and Question"
   ]
  },
  {
   "cell_type": "markdown",
   "metadata": {},
   "source": [
    "Using CAPE UCSD data, students in STEM classes struggle to receive good grades even if they study for at least 8 hours. Specifically, students in the mechanical engineering and chemistry majors have the highest percentage of students studying more than 8 hours a week. While, students who are in non-STEM classes still receive better grades even when they do not study more than 8 hours. This data emphasizes that STEM classes require more time and effort due to the rigors of the classes they are required to take. This may explain why STEM students are more likely to suffer from mental health issues. They are forced to spend numerous hours studying to be able to succeed in these classes.  \n",
    "\n",
    "From the Exploratory Analysis on Worst Grades data, it is certain that the highest rate of D and F letters found mostly in STEM related courses with the highest of 0.186066 in Intermediate Algebra. Such as, Mathematics and Biology related courses have more than half of the top 100 courses with highest rate with D and F letters. While, the highest rate of A letter found mostly in Humanity and Performing Arts. It is understandable that STEM courses are often difficult and challenging compare to other courses. Therefore, the rate for worst grades commonly results in STEM related courses. \n",
    "\n",
    "From the FiveThirtyEight College Major Graduations data, STEM related majors do not have a relatively high unemployment rate in comparison to the individuals who did not receive a graduate degree in the same field. This dataset reveal that people in the STEM field does not necessarily have to obtain a graduate degree to get a job, because date emphasizes that their employment rates and their unemployment rates does not show a significant difference. It was not significant enough to state that obtaining a graduate degree necessarily meant that an individual's likelihood of being employed is greater than someone who does not have their graduate degree. \n",
    "\n",
    "From the Mental Health and Tech data, the categorized questions and answers presents the prevalence of mental health issues as well as its’ benefits in the tech industry. The dataset was gathered from all around the world, and our group cleaned up the dataset to only show the data that shows individuals that work in tech companies based in California. Based on this data, it revealed that around 10 percent of employers were experiencing mental health problems while working in these companies. Employees in these companies mention that their company does provide mental health benefits, which allows them to get the help they need if they decide to seek help."
   ]
  },
  {
   "cell_type": "markdown",
   "metadata": {},
   "source": [
    "# Results & Conclusions"
   ]
  },
  {
   "cell_type": "markdown",
   "metadata": {},
   "source": [
    "To recap, the research question guiding our team’s data analysis is: What academic and social factors do STEM (Science, Technology, Engineering, and Mathematics) students experience during undergrad that contribute to mental-health illnesses in their professional careers? Our team our hypothesized that STEM students typically experience a higher number of study hours per week, are more prone to backlogging, and show extreme distress about their grades in comparison to their peers. There seems to be a discrepancy in the relationship between the number of hours spent studying and the average grade received--the data indicates that students in STEM classes will not achieve average grades better than a B- (3.3) despite spending at least 8 hours a week studying for that class, whereas students in non-STEM will achieve a B- about half the time when they study for the same 8 hours. Ultimately, this analysis refutes the concept that “the more one puts in, the more one will get out,” which translates into the motivation that “ if a student studies more, then he/she will get better grades.” It is human nature to find it disappointing and discouraging when one’s efforts to excel do not necessarily culminate into tangible evidence of success. In addition, this expectation of success when putting in hard work extends further into the careers of students who graduated with STEM degrees. Another part of our analysis highlights that STEM majors do not necessarily have lower unemployment rates than non-STEM majors, which again, can be frustrating for those who choose a more intensive major to increase their job prospects post-grad. Moreover, our analysis reveals that while employees in the tech industry recognize the effects of their mental health in the workplace, it is clear that the mental health is not typically acknowledged or addressed by employers. The fast-paced and rigorous nature of the tech industry bolsters the notion that has been ingrained into STEM students since college that “the more one puts in, the more one will get out,” perpetuating a culture of high-expectation and high-stress which are two of many factors that contribute to mental wellness."
   ]
  },
  {
   "cell_type": "markdown",
   "metadata": {},
   "source": [
    "# Limitations"
   ]
  },
  {
   "cell_type": "markdown",
   "metadata": {},
   "source": [
    "It is possible that some of our data does not exactly represent everything accurately. For example, for the CAPE data, we got the data from a certain selection of classes. That one part may not accurately represent all STEM classes as a whole, and some majors may be over or under represented. When we dropped the rows with NaN in the CAPE data, we lost some data, and that may also have affected the results. For the survey on mental health in the workplace, there is also a possibility that the results collected are only from certain kinds of places in California where certain kinds of answers are more common, which may have skewed the data one way or another. We did what we could based on the data that we had and analyzed accordingly."
   ]
  },
  {
   "cell_type": "markdown",
   "metadata": {},
   "source": [
    "# Impact on Society"
   ]
  },
  {
   "cell_type": "markdown",
   "metadata": {},
   "source": [
    "Mental health in STEM fields is something that society should be more aware of. Based on what we saw from our data analysis, STEM students push themselves to study a lot and still don’t always get good grades, which can push them into a place of stress and mental instability. They then bring these issues into the workplace where there is a similar kind of pressure and continue to suffer from these mental health conditions. Mental health should be a more common concern among the public because it is a real thing that affects people negatively, and we should be actively trying to find ways to help people with these conditions, rather than being oblivious and making it even worse."
   ]
  }
 ],
 "metadata": {
  "kernelspec": {
   "display_name": "Python 3",
   "language": "python",
   "name": "python3"
  },
  "language_info": {
   "codemirror_mode": {
    "name": "ipython",
    "version": 3
   },
   "file_extension": ".py",
   "mimetype": "text/x-python",
   "name": "python",
   "nbconvert_exporter": "python",
   "pygments_lexer": "ipython3",
   "version": "3.7.3"
  }
 },
 "nbformat": 4,
 "nbformat_minor": 2
}
